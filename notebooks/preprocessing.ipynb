{
 "cells": [
  {
   "cell_type": "code",
   "execution_count": 1,
   "id": "06f7ed14",
   "metadata": {},
   "outputs": [],
   "source": [
    "import pandas as pd\n",
    "import seaborn as sns\n",
    "import numpy as np\n",
    "import xgboost as xgb\n",
    "from sklearn.model_selection import train_test_split\n",
    "from sklearn.metrics import balanced_accuracy_score, roc_auc_score, make_scorer\n",
    "from sklearn.model_selection import GridSearchCV\n",
    "from sklearn.metrics import confusion_matrix\n",
    "from sklearn.metrics import plot_confusion_matrix"
   ]
  },
  {
   "cell_type": "code",
   "execution_count": 2,
   "id": "5b6be3e8",
   "metadata": {},
   "outputs": [],
   "source": [
    "df = pd.read_csv('../data/raw/churn.csv')"
   ]
  },
  {
   "cell_type": "code",
   "execution_count": 3,
   "id": "d64f5463",
   "metadata": {},
   "outputs": [],
   "source": [
    "df.drop(['Churn Label','City','Churn Score', 'CLTV', 'Churn Reason',\n",
    "        'Count', 'Country', 'State', 'CustomerID', 'Lat Long'], axis = 1, inplace = True)"
   ]
  },
  {
   "cell_type": "code",
   "execution_count": 4,
   "id": "3a05c273",
   "metadata": {},
   "outputs": [],
   "source": [
    "#replace whitespaces in City values with _\n",
    "#df['City'].replace(' ', '_', regex=True, inplace=True)"
   ]
  },
  {
   "cell_type": "code",
   "execution_count": 5,
   "id": "a46588e2",
   "metadata": {},
   "outputs": [],
   "source": [
    "#remove whitespaces from columns\n",
    "df.columns = df.columns.str.replace(' ', '_')"
   ]
  },
  {
   "cell_type": "code",
   "execution_count": 6,
   "id": "37878f80",
   "metadata": {},
   "outputs": [],
   "source": [
    "#setting observed empty space to zero\n",
    "df.loc[(df['Total_Charges']==\" \"),'Total_Charges']= 0"
   ]
  },
  {
   "cell_type": "code",
   "execution_count": 7,
   "id": "a597dcc8",
   "metadata": {},
   "outputs": [],
   "source": [
    "#total charges feature converted from object to float\n",
    "df['Total_Charges'] = pd.to_numeric(df['Total_Charges'])"
   ]
  },
  {
   "cell_type": "code",
   "execution_count": 8,
   "id": "4dfb9fd7",
   "metadata": {},
   "outputs": [],
   "source": [
    "#replace all empty spaces with _\n",
    "df.replace(' ', '_', regex=True, inplace=True)"
   ]
  },
  {
   "cell_type": "code",
   "execution_count": 9,
   "id": "fe29a6c7",
   "metadata": {},
   "outputs": [],
   "source": [
    "X = df.drop('Churn_Value',axis=1)\n",
    "y = df['Churn_Value']"
   ]
  },
  {
   "cell_type": "code",
   "execution_count": 10,
   "id": "8d6169aa",
   "metadata": {},
   "outputs": [
    {
     "data": {
      "text/html": [
       "<div>\n",
       "<style scoped>\n",
       "    .dataframe tbody tr th:only-of-type {\n",
       "        vertical-align: middle;\n",
       "    }\n",
       "\n",
       "    .dataframe tbody tr th {\n",
       "        vertical-align: top;\n",
       "    }\n",
       "\n",
       "    .dataframe thead th {\n",
       "        text-align: right;\n",
       "    }\n",
       "</style>\n",
       "<table border=\"1\" class=\"dataframe\">\n",
       "  <thead>\n",
       "    <tr style=\"text-align: right;\">\n",
       "      <th></th>\n",
       "      <th>Zip_Code</th>\n",
       "      <th>Latitude</th>\n",
       "      <th>Longitude</th>\n",
       "      <th>Tenure_Months</th>\n",
       "      <th>Monthly_Charges</th>\n",
       "      <th>Total_Charges</th>\n",
       "      <th>Gender_Male</th>\n",
       "      <th>Senior_Citizen_Yes</th>\n",
       "      <th>Partner_Yes</th>\n",
       "      <th>Dependents_Yes</th>\n",
       "      <th>...</th>\n",
       "      <th>Streaming_TV_No_internet_service</th>\n",
       "      <th>Streaming_TV_Yes</th>\n",
       "      <th>Streaming_Movies_No_internet_service</th>\n",
       "      <th>Streaming_Movies_Yes</th>\n",
       "      <th>Contract_One_year</th>\n",
       "      <th>Contract_Two_year</th>\n",
       "      <th>Paperless_Billing_Yes</th>\n",
       "      <th>Payment_Method_Credit_card_(automatic)</th>\n",
       "      <th>Payment_Method_Electronic_check</th>\n",
       "      <th>Payment_Method_Mailed_check</th>\n",
       "    </tr>\n",
       "  </thead>\n",
       "  <tbody>\n",
       "    <tr>\n",
       "      <th>0</th>\n",
       "      <td>90003</td>\n",
       "      <td>33.964131</td>\n",
       "      <td>-118.272783</td>\n",
       "      <td>2</td>\n",
       "      <td>53.85</td>\n",
       "      <td>108.15</td>\n",
       "      <td>1</td>\n",
       "      <td>0</td>\n",
       "      <td>0</td>\n",
       "      <td>0</td>\n",
       "      <td>...</td>\n",
       "      <td>0</td>\n",
       "      <td>0</td>\n",
       "      <td>0</td>\n",
       "      <td>0</td>\n",
       "      <td>0</td>\n",
       "      <td>0</td>\n",
       "      <td>1</td>\n",
       "      <td>0</td>\n",
       "      <td>0</td>\n",
       "      <td>1</td>\n",
       "    </tr>\n",
       "    <tr>\n",
       "      <th>1</th>\n",
       "      <td>90005</td>\n",
       "      <td>34.059281</td>\n",
       "      <td>-118.307420</td>\n",
       "      <td>2</td>\n",
       "      <td>70.70</td>\n",
       "      <td>151.65</td>\n",
       "      <td>0</td>\n",
       "      <td>0</td>\n",
       "      <td>0</td>\n",
       "      <td>1</td>\n",
       "      <td>...</td>\n",
       "      <td>0</td>\n",
       "      <td>0</td>\n",
       "      <td>0</td>\n",
       "      <td>0</td>\n",
       "      <td>0</td>\n",
       "      <td>0</td>\n",
       "      <td>1</td>\n",
       "      <td>0</td>\n",
       "      <td>1</td>\n",
       "      <td>0</td>\n",
       "    </tr>\n",
       "    <tr>\n",
       "      <th>2</th>\n",
       "      <td>90006</td>\n",
       "      <td>34.048013</td>\n",
       "      <td>-118.293953</td>\n",
       "      <td>8</td>\n",
       "      <td>99.65</td>\n",
       "      <td>820.50</td>\n",
       "      <td>0</td>\n",
       "      <td>0</td>\n",
       "      <td>0</td>\n",
       "      <td>1</td>\n",
       "      <td>...</td>\n",
       "      <td>0</td>\n",
       "      <td>1</td>\n",
       "      <td>0</td>\n",
       "      <td>1</td>\n",
       "      <td>0</td>\n",
       "      <td>0</td>\n",
       "      <td>1</td>\n",
       "      <td>0</td>\n",
       "      <td>1</td>\n",
       "      <td>0</td>\n",
       "    </tr>\n",
       "    <tr>\n",
       "      <th>3</th>\n",
       "      <td>90010</td>\n",
       "      <td>34.062125</td>\n",
       "      <td>-118.315709</td>\n",
       "      <td>28</td>\n",
       "      <td>104.80</td>\n",
       "      <td>3046.05</td>\n",
       "      <td>0</td>\n",
       "      <td>0</td>\n",
       "      <td>1</td>\n",
       "      <td>1</td>\n",
       "      <td>...</td>\n",
       "      <td>0</td>\n",
       "      <td>1</td>\n",
       "      <td>0</td>\n",
       "      <td>1</td>\n",
       "      <td>0</td>\n",
       "      <td>0</td>\n",
       "      <td>1</td>\n",
       "      <td>0</td>\n",
       "      <td>1</td>\n",
       "      <td>0</td>\n",
       "    </tr>\n",
       "    <tr>\n",
       "      <th>4</th>\n",
       "      <td>90015</td>\n",
       "      <td>34.039224</td>\n",
       "      <td>-118.266293</td>\n",
       "      <td>49</td>\n",
       "      <td>103.70</td>\n",
       "      <td>5036.30</td>\n",
       "      <td>1</td>\n",
       "      <td>0</td>\n",
       "      <td>0</td>\n",
       "      <td>1</td>\n",
       "      <td>...</td>\n",
       "      <td>0</td>\n",
       "      <td>1</td>\n",
       "      <td>0</td>\n",
       "      <td>1</td>\n",
       "      <td>0</td>\n",
       "      <td>0</td>\n",
       "      <td>1</td>\n",
       "      <td>0</td>\n",
       "      <td>0</td>\n",
       "      <td>0</td>\n",
       "    </tr>\n",
       "  </tbody>\n",
       "</table>\n",
       "<p>5 rows × 33 columns</p>\n",
       "</div>"
      ],
      "text/plain": [
       "   Zip_Code   Latitude   Longitude  Tenure_Months  Monthly_Charges  \\\n",
       "0     90003  33.964131 -118.272783              2            53.85   \n",
       "1     90005  34.059281 -118.307420              2            70.70   \n",
       "2     90006  34.048013 -118.293953              8            99.65   \n",
       "3     90010  34.062125 -118.315709             28           104.80   \n",
       "4     90015  34.039224 -118.266293             49           103.70   \n",
       "\n",
       "   Total_Charges  Gender_Male  Senior_Citizen_Yes  Partner_Yes  \\\n",
       "0         108.15            1                   0            0   \n",
       "1         151.65            0                   0            0   \n",
       "2         820.50            0                   0            0   \n",
       "3        3046.05            0                   0            1   \n",
       "4        5036.30            1                   0            0   \n",
       "\n",
       "   Dependents_Yes  ...  Streaming_TV_No_internet_service  Streaming_TV_Yes  \\\n",
       "0               0  ...                                 0                 0   \n",
       "1               1  ...                                 0                 0   \n",
       "2               1  ...                                 0                 1   \n",
       "3               1  ...                                 0                 1   \n",
       "4               1  ...                                 0                 1   \n",
       "\n",
       "   Streaming_Movies_No_internet_service  Streaming_Movies_Yes  \\\n",
       "0                                     0                     0   \n",
       "1                                     0                     0   \n",
       "2                                     0                     1   \n",
       "3                                     0                     1   \n",
       "4                                     0                     1   \n",
       "\n",
       "   Contract_One_year  Contract_Two_year  Paperless_Billing_Yes  \\\n",
       "0                  0                  0                      1   \n",
       "1                  0                  0                      1   \n",
       "2                  0                  0                      1   \n",
       "3                  0                  0                      1   \n",
       "4                  0                  0                      1   \n",
       "\n",
       "   Payment_Method_Credit_card_(automatic)  Payment_Method_Electronic_check  \\\n",
       "0                                       0                                0   \n",
       "1                                       0                                1   \n",
       "2                                       0                                1   \n",
       "3                                       0                                1   \n",
       "4                                       0                                0   \n",
       "\n",
       "   Payment_Method_Mailed_check  \n",
       "0                            1  \n",
       "1                            0  \n",
       "2                            0  \n",
       "3                            0  \n",
       "4                            0  \n",
       "\n",
       "[5 rows x 33 columns]"
      ]
     },
     "execution_count": 10,
     "metadata": {},
     "output_type": "execute_result"
    }
   ],
   "source": [
    "X = pd.get_dummies(X, columns = ['Gender',\n",
    "                                'Senior_Citizen',\n",
    "                                'Partner',\n",
    "                                'Dependents',\n",
    "                                'Phone_Service',\n",
    "                                'Multiple_Lines',\n",
    "                                'Internet_Service',\n",
    "                                'Online_Security',\n",
    "                                'Online_Backup',\n",
    "                                'Device_Protection',\n",
    "                                'Tech_Support',\n",
    "                                'Streaming_TV',\n",
    "                                'Streaming_Movies',\n",
    "                                'Contract',\n",
    "                                'Paperless_Billing',\n",
    "                                'Payment_Method'\n",
    "                                         \n",
    "    \n",
    "],drop_first=True)\n",
    "X.head()"
   ]
  },
  {
   "cell_type": "code",
   "execution_count": 11,
   "id": "46980d92",
   "metadata": {},
   "outputs": [
    {
     "data": {
      "text/plain": [
       "(7043, 33)"
      ]
     },
     "execution_count": 11,
     "metadata": {},
     "output_type": "execute_result"
    }
   ],
   "source": [
    "X.shape"
   ]
  },
  {
   "cell_type": "code",
   "execution_count": 12,
   "id": "d4fe318b",
   "metadata": {},
   "outputs": [
    {
     "data": {
      "text/plain": [
       "['Zip_Code',\n",
       " 'Latitude',\n",
       " 'Longitude',\n",
       " 'Tenure_Months',\n",
       " 'Monthly_Charges',\n",
       " 'Total_Charges',\n",
       " 'Gender_Male',\n",
       " 'Senior_Citizen_Yes',\n",
       " 'Partner_Yes',\n",
       " 'Dependents_Yes',\n",
       " 'Phone_Service_Yes',\n",
       " 'Multiple_Lines_No_phone_service',\n",
       " 'Multiple_Lines_Yes',\n",
       " 'Internet_Service_Fiber_optic',\n",
       " 'Internet_Service_No',\n",
       " 'Online_Security_No_internet_service',\n",
       " 'Online_Security_Yes',\n",
       " 'Online_Backup_No_internet_service',\n",
       " 'Online_Backup_Yes',\n",
       " 'Device_Protection_No_internet_service',\n",
       " 'Device_Protection_Yes',\n",
       " 'Tech_Support_No_internet_service',\n",
       " 'Tech_Support_Yes',\n",
       " 'Streaming_TV_No_internet_service',\n",
       " 'Streaming_TV_Yes',\n",
       " 'Streaming_Movies_No_internet_service',\n",
       " 'Streaming_Movies_Yes',\n",
       " 'Contract_One_year',\n",
       " 'Contract_Two_year',\n",
       " 'Paperless_Billing_Yes',\n",
       " 'Payment_Method_Credit_card_(automatic)',\n",
       " 'Payment_Method_Electronic_check',\n",
       " 'Payment_Method_Mailed_check']"
      ]
     },
     "execution_count": 12,
     "metadata": {},
     "output_type": "execute_result"
    }
   ],
   "source": [
    "list(X.columns)"
   ]
  },
  {
   "cell_type": "code",
   "execution_count": 13,
   "id": "e0bd200b",
   "metadata": {},
   "outputs": [
    {
     "name": "stdout",
     "output_type": "stream",
     "text": [
      "2.0.1\n"
     ]
    }
   ],
   "source": [
    "import mlflow\n",
    "print(mlflow.__version__)"
   ]
  },
  {
   "cell_type": "code",
   "execution_count": 14,
   "id": "7453bde7",
   "metadata": {},
   "outputs": [],
   "source": [
    "X_train, X_test, y_train, y_test = train_test_split(X, y, random_state=42, stratify=y)"
   ]
  },
  {
   "cell_type": "code",
   "execution_count": 15,
   "id": "92cab148",
   "metadata": {},
   "outputs": [],
   "source": [
    "features = list(X_train.columns)"
   ]
  },
  {
   "cell_type": "code",
   "execution_count": 16,
   "id": "397dc31d",
   "metadata": {},
   "outputs": [
    {
     "data": {
      "text/plain": [
       "['Zip_Code',\n",
       " 'Latitude',\n",
       " 'Longitude',\n",
       " 'Tenure_Months',\n",
       " 'Monthly_Charges',\n",
       " 'Total_Charges',\n",
       " 'Gender_Male',\n",
       " 'Senior_Citizen_Yes',\n",
       " 'Partner_Yes',\n",
       " 'Dependents_Yes',\n",
       " 'Phone_Service_Yes',\n",
       " 'Multiple_Lines_No_phone_service',\n",
       " 'Multiple_Lines_Yes',\n",
       " 'Internet_Service_Fiber_optic',\n",
       " 'Internet_Service_No',\n",
       " 'Online_Security_No_internet_service',\n",
       " 'Online_Security_Yes',\n",
       " 'Online_Backup_No_internet_service',\n",
       " 'Online_Backup_Yes',\n",
       " 'Device_Protection_No_internet_service',\n",
       " 'Device_Protection_Yes',\n",
       " 'Tech_Support_No_internet_service',\n",
       " 'Tech_Support_Yes',\n",
       " 'Streaming_TV_No_internet_service',\n",
       " 'Streaming_TV_Yes',\n",
       " 'Streaming_Movies_No_internet_service',\n",
       " 'Streaming_Movies_Yes',\n",
       " 'Contract_One_year',\n",
       " 'Contract_Two_year',\n",
       " 'Paperless_Billing_Yes',\n",
       " 'Payment_Method_Credit_card_(automatic)',\n",
       " 'Payment_Method_Electronic_check',\n",
       " 'Payment_Method_Mailed_check']"
      ]
     },
     "execution_count": 16,
     "metadata": {},
     "output_type": "execute_result"
    }
   ],
   "source": [
    "features"
   ]
  },
  {
   "cell_type": "code",
   "execution_count": 22,
   "id": "faca54fb",
   "metadata": {},
   "outputs": [],
   "source": [
    "X_train.columns = X_train.columns.str.replace('(', '',regex=True).str.replace(')','',regex=True)"
   ]
  },
  {
   "cell_type": "code",
   "execution_count": 23,
   "id": "0f16b31f",
   "metadata": {},
   "outputs": [
    {
     "data": {
      "text/plain": [
       "['Zip_Code',\n",
       " 'Latitude',\n",
       " 'Longitude',\n",
       " 'Tenure_Months',\n",
       " 'Monthly_Charges',\n",
       " 'Total_Charges',\n",
       " 'Gender_Male',\n",
       " 'Senior_Citizen_Yes',\n",
       " 'Partner_Yes',\n",
       " 'Dependents_Yes',\n",
       " 'Phone_Service_Yes',\n",
       " 'Multiple_Lines_No_phone_service',\n",
       " 'Multiple_Lines_Yes',\n",
       " 'Internet_Service_Fiber_optic',\n",
       " 'Internet_Service_No',\n",
       " 'Online_Security_No_internet_service',\n",
       " 'Online_Security_Yes',\n",
       " 'Online_Backup_No_internet_service',\n",
       " 'Online_Backup_Yes',\n",
       " 'Device_Protection_No_internet_service',\n",
       " 'Device_Protection_Yes',\n",
       " 'Tech_Support_No_internet_service',\n",
       " 'Tech_Support_Yes',\n",
       " 'Streaming_TV_No_internet_service',\n",
       " 'Streaming_TV_Yes',\n",
       " 'Streaming_Movies_No_internet_service',\n",
       " 'Streaming_Movies_Yes',\n",
       " 'Contract_One_year',\n",
       " 'Contract_Two_year',\n",
       " 'Paperless_Billing_Yes',\n",
       " 'Payment_Method_Credit_card_automatic',\n",
       " 'Payment_Method_Electronic_check',\n",
       " 'Payment_Method_Mailed_check']"
      ]
     },
     "execution_count": 23,
     "metadata": {},
     "output_type": "execute_result"
    }
   ],
   "source": [
    "list(X_train.columns)"
   ]
  },
  {
   "cell_type": "code",
   "execution_count": 25,
   "id": "e61e605f",
   "metadata": {},
   "outputs": [
    {
     "data": {
      "text/html": [
       "<div>\n",
       "<style scoped>\n",
       "    .dataframe tbody tr th:only-of-type {\n",
       "        vertical-align: middle;\n",
       "    }\n",
       "\n",
       "    .dataframe tbody tr th {\n",
       "        vertical-align: top;\n",
       "    }\n",
       "\n",
       "    .dataframe thead th {\n",
       "        text-align: right;\n",
       "    }\n",
       "</style>\n",
       "<table border=\"1\" class=\"dataframe\">\n",
       "  <thead>\n",
       "    <tr style=\"text-align: right;\">\n",
       "      <th></th>\n",
       "      <th>Zip_Code</th>\n",
       "      <th>Latitude</th>\n",
       "      <th>Longitude</th>\n",
       "      <th>Tenure_Months</th>\n",
       "      <th>Monthly_Charges</th>\n",
       "      <th>Total_Charges</th>\n",
       "      <th>Gender_Male</th>\n",
       "      <th>Senior_Citizen_Yes</th>\n",
       "      <th>Partner_Yes</th>\n",
       "      <th>Dependents_Yes</th>\n",
       "      <th>...</th>\n",
       "      <th>Streaming_TV_No_internet_service</th>\n",
       "      <th>Streaming_TV_Yes</th>\n",
       "      <th>Streaming_Movies_No_internet_service</th>\n",
       "      <th>Streaming_Movies_Yes</th>\n",
       "      <th>Contract_One_year</th>\n",
       "      <th>Contract_Two_year</th>\n",
       "      <th>Paperless_Billing_Yes</th>\n",
       "      <th>Payment_Method_Credit_card_automatic</th>\n",
       "      <th>Payment_Method_Electronic_check</th>\n",
       "      <th>Payment_Method_Mailed_check</th>\n",
       "    </tr>\n",
       "  </thead>\n",
       "  <tbody>\n",
       "    <tr>\n",
       "      <th>6764</th>\n",
       "      <td>90063</td>\n",
       "      <td>34.044271</td>\n",
       "      <td>-118.185237</td>\n",
       "      <td>72</td>\n",
       "      <td>53.65</td>\n",
       "      <td>3784.0</td>\n",
       "      <td>0</td>\n",
       "      <td>0</td>\n",
       "      <td>1</td>\n",
       "      <td>1</td>\n",
       "      <td>...</td>\n",
       "      <td>0</td>\n",
       "      <td>1</td>\n",
       "      <td>0</td>\n",
       "      <td>1</td>\n",
       "      <td>0</td>\n",
       "      <td>1</td>\n",
       "      <td>0</td>\n",
       "      <td>1</td>\n",
       "      <td>0</td>\n",
       "      <td>0</td>\n",
       "    </tr>\n",
       "    <tr>\n",
       "      <th>1257</th>\n",
       "      <td>95951</td>\n",
       "      <td>39.732767</td>\n",
       "      <td>-122.042298</td>\n",
       "      <td>4</td>\n",
       "      <td>46.00</td>\n",
       "      <td>193.6</td>\n",
       "      <td>0</td>\n",
       "      <td>0</td>\n",
       "      <td>0</td>\n",
       "      <td>0</td>\n",
       "      <td>...</td>\n",
       "      <td>0</td>\n",
       "      <td>0</td>\n",
       "      <td>0</td>\n",
       "      <td>0</td>\n",
       "      <td>0</td>\n",
       "      <td>0</td>\n",
       "      <td>1</td>\n",
       "      <td>0</td>\n",
       "      <td>0</td>\n",
       "      <td>1</td>\n",
       "    </tr>\n",
       "  </tbody>\n",
       "</table>\n",
       "<p>2 rows × 33 columns</p>\n",
       "</div>"
      ],
      "text/plain": [
       "      Zip_Code   Latitude   Longitude  Tenure_Months  Monthly_Charges  \\\n",
       "6764     90063  34.044271 -118.185237             72            53.65   \n",
       "1257     95951  39.732767 -122.042298              4            46.00   \n",
       "\n",
       "      Total_Charges  Gender_Male  Senior_Citizen_Yes  Partner_Yes  \\\n",
       "6764         3784.0            0                   0            1   \n",
       "1257          193.6            0                   0            0   \n",
       "\n",
       "      Dependents_Yes  ...  Streaming_TV_No_internet_service  Streaming_TV_Yes  \\\n",
       "6764               1  ...                                 0                 1   \n",
       "1257               0  ...                                 0                 0   \n",
       "\n",
       "      Streaming_Movies_No_internet_service  Streaming_Movies_Yes  \\\n",
       "6764                                     0                     1   \n",
       "1257                                     0                     0   \n",
       "\n",
       "      Contract_One_year  Contract_Two_year  Paperless_Billing_Yes  \\\n",
       "6764                  0                  1                      0   \n",
       "1257                  0                  0                      1   \n",
       "\n",
       "      Payment_Method_Credit_card_automatic  Payment_Method_Electronic_check  \\\n",
       "6764                                     1                                0   \n",
       "1257                                     0                                0   \n",
       "\n",
       "      Payment_Method_Mailed_check  \n",
       "6764                            0  \n",
       "1257                            1  \n",
       "\n",
       "[2 rows x 33 columns]"
      ]
     },
     "execution_count": 25,
     "metadata": {},
     "output_type": "execute_result"
    }
   ],
   "source": [
    "X_train.head(2)"
   ]
  },
  {
   "cell_type": "code",
   "execution_count": 61,
   "id": "1d3f21cb",
   "metadata": {},
   "outputs": [],
   "source": [
    "data_in = {'a': [1], 'b': [2], 'c': [3], 'd':[4], 'c':[5], 'd':[6], 'e':[7],\n",
    "                    'f':[8], 'g':[8], 'h':[9], 'i':[10], 'j':[11],\n",
    "                    'k':[12], 'l':[13], 'm':[14], 'n':[15],\n",
    "                    'o':[16], 'p':[17], 'q':[18], 'r':[19],\n",
    "                    's':[20], 't':[21], 'u':[22], 'v':[23],\n",
    "                    'w':[24], 'x':[25], 'y':[26], 'z':[27], 'aa':[28],\n",
    "                    'bb':[29], 'cc':[30], 'dd':[31], 'ee':[32],\n",
    "                   }\n",
    "data_in = pd.DataFrame(data_in)\n"
   ]
  },
  {
   "cell_type": "code",
   "execution_count": null,
   "id": "44be584b",
   "metadata": {},
   "outputs": [],
   "source": [
    "\n",
    "        data_in = {'a': [Zip_Code], 'b': [Latitude], 'c': [Longitude], 'd':[Tenure_Months], 'e':[Monthly_Charges], 'f':[Total_Charges], 'g':[Gender_Male],\n",
    "                    'h':[Senior_Citizen_Yes], 'i':[Partner_Yes], 'j':[Dependents_Yes], 'k':[Phone_Service_Yes], 'l':[Multiple_Lines_No_phone_service],\n",
    "                    'm':[Multiple_Lines_Yes], 'n':[Internet_Service_Fiber_optic], 'o':[Internet_Service_No], 'p':[Online_Security_No_internet_service],\n",
    "                    'q':[Online_Security_Yes], 'r':[Online_Backup_No_internet_service], 's':[Online_Backup_Yes], 't':[Device_Protection_No_internet_service],\n",
    "                    'u':[Device_Protection_Yes], 'v':[Tech_Support_No_internet_service], 'w':[Tech_Support_Yes], 'x':[Streaming_TV_No_internet_service],\n",
    "                    'y':[Streaming_TV_Yes], 'z':[Streaming_Movies_No_internet_service], 'aa':[Streaming_Movies_Yes], 'bb':[Contract_One_year], 'cc':[Contract_Two_year],\n",
    "                    'dd':[Paperless_Billing_Yes], 'ee':[Payment_Method_Credit_card_automatic], 'ff':[Payment_Method_Electronic_check], 'gg':[Payment_Method_Mailed_check],\n",
    "                   }"
   ]
  },
  {
   "cell_type": "code",
   "execution_count": null,
   "id": "23e3402f",
   "metadata": {},
   "outputs": [],
   "source": [
    " Zip_Code, Latitude, Longitude, Tenure_Months, Monthly_Charges, Total_Charges, Gender_Male,\n",
    "                    Senior_Citizen_Yes, Partner_Yes, Dependents_Yes, Phone_Service_Yes, Multiple_Lines_No_phone_service,\n",
    "                    Multiple_Lines_Yes, Internet_Service_Fiber_optic, Internet_Service_No, Online_Security_No_internet_service,\n",
    "                    Online_Security_Yes, Online_Backup_No_internet_service, Online_Backup_Yes, Device_Protection_No_internet_service,\n",
    "                    Device_Protection_Yes, Tech_Support_No_internet_service, Tech_Support_Yes, Streaming_TV_No_internet_service,\n",
    "                    Streaming_TV_Yes, Streaming_Movies_No_internet_service, Streaming_Movies_Yes, Contract_One_year, Contract_Two_year,\n",
    "                    Paperless_Billing_Yes, Payment_Method_Credit_card_automatic, Payment_Method_Electronic_check, Payment_Method_Mailed_check)"
   ]
  },
  {
   "cell_type": "code",
   "execution_count": 62,
   "id": "66d8ad9b",
   "metadata": {},
   "outputs": [
    {
     "data": {
      "text/html": [
       "<div>\n",
       "<style scoped>\n",
       "    .dataframe tbody tr th:only-of-type {\n",
       "        vertical-align: middle;\n",
       "    }\n",
       "\n",
       "    .dataframe tbody tr th {\n",
       "        vertical-align: top;\n",
       "    }\n",
       "\n",
       "    .dataframe thead th {\n",
       "        text-align: right;\n",
       "    }\n",
       "</style>\n",
       "<table border=\"1\" class=\"dataframe\">\n",
       "  <thead>\n",
       "    <tr style=\"text-align: right;\">\n",
       "      <th></th>\n",
       "      <th>a</th>\n",
       "      <th>b</th>\n",
       "      <th>c</th>\n",
       "      <th>d</th>\n",
       "      <th>e</th>\n",
       "      <th>f</th>\n",
       "      <th>g</th>\n",
       "      <th>h</th>\n",
       "      <th>i</th>\n",
       "      <th>j</th>\n",
       "      <th>...</th>\n",
       "      <th>v</th>\n",
       "      <th>w</th>\n",
       "      <th>x</th>\n",
       "      <th>y</th>\n",
       "      <th>z</th>\n",
       "      <th>aa</th>\n",
       "      <th>bb</th>\n",
       "      <th>cc</th>\n",
       "      <th>dd</th>\n",
       "      <th>ee</th>\n",
       "    </tr>\n",
       "  </thead>\n",
       "  <tbody>\n",
       "    <tr>\n",
       "      <th>0</th>\n",
       "      <td>1</td>\n",
       "      <td>2</td>\n",
       "      <td>5</td>\n",
       "      <td>6</td>\n",
       "      <td>7</td>\n",
       "      <td>8</td>\n",
       "      <td>8</td>\n",
       "      <td>9</td>\n",
       "      <td>10</td>\n",
       "      <td>11</td>\n",
       "      <td>...</td>\n",
       "      <td>23</td>\n",
       "      <td>24</td>\n",
       "      <td>25</td>\n",
       "      <td>26</td>\n",
       "      <td>27</td>\n",
       "      <td>28</td>\n",
       "      <td>29</td>\n",
       "      <td>30</td>\n",
       "      <td>31</td>\n",
       "      <td>32</td>\n",
       "    </tr>\n",
       "  </tbody>\n",
       "</table>\n",
       "<p>1 rows × 31 columns</p>\n",
       "</div>"
      ],
      "text/plain": [
       "   a  b  c  d  e  f  g  h   i   j  ...   v   w   x   y   z  aa  bb  cc  dd  ee\n",
       "0  1  2  5  6  7  8  8  9  10  11  ...  23  24  25  26  27  28  29  30  31  32\n",
       "\n",
       "[1 rows x 31 columns]"
      ]
     },
     "execution_count": 62,
     "metadata": {},
     "output_type": "execute_result"
    }
   ],
   "source": [
    "data_in"
   ]
  },
  {
   "cell_type": "code",
   "execution_count": 50,
   "id": "ae59789b",
   "metadata": {},
   "outputs": [
    {
     "data": {
      "text/html": [
       "<div>\n",
       "<style scoped>\n",
       "    .dataframe tbody tr th:only-of-type {\n",
       "        vertical-align: middle;\n",
       "    }\n",
       "\n",
       "    .dataframe tbody tr th {\n",
       "        vertical-align: top;\n",
       "    }\n",
       "\n",
       "    .dataframe thead th {\n",
       "        text-align: right;\n",
       "    }\n",
       "</style>\n",
       "<table border=\"1\" class=\"dataframe\">\n",
       "  <thead>\n",
       "    <tr style=\"text-align: right;\">\n",
       "      <th></th>\n",
       "      <th>Name</th>\n",
       "      <th>Age</th>\n",
       "    </tr>\n",
       "  </thead>\n",
       "  <tbody>\n",
       "    <tr>\n",
       "      <th>0</th>\n",
       "      <td>Tom</td>\n",
       "      <td>20</td>\n",
       "    </tr>\n",
       "    <tr>\n",
       "      <th>1</th>\n",
       "      <td>Joseph</td>\n",
       "      <td>21</td>\n",
       "    </tr>\n",
       "    <tr>\n",
       "      <th>2</th>\n",
       "      <td>Krish</td>\n",
       "      <td>19</td>\n",
       "    </tr>\n",
       "    <tr>\n",
       "      <th>3</th>\n",
       "      <td>John</td>\n",
       "      <td>18</td>\n",
       "    </tr>\n",
       "  </tbody>\n",
       "</table>\n",
       "</div>"
      ],
      "text/plain": [
       "     Name  Age\n",
       "0     Tom   20\n",
       "1  Joseph   21\n",
       "2   Krish   19\n",
       "3    John   18"
      ]
     },
     "execution_count": 50,
     "metadata": {},
     "output_type": "execute_result"
    }
   ],
   "source": [
    "df"
   ]
  },
  {
   "cell_type": "code",
   "execution_count": 67,
   "id": "eb2e3802",
   "metadata": {},
   "outputs": [
    {
     "ename": "FileNotFoundError",
     "evalue": "[Errno 2] No such file or directory: 'HP 1O3O G2/telecom_customer_churn_prediction/data/final'",
     "output_type": "error",
     "traceback": [
      "\u001b[1;31m---------------------------------------------------------------------------\u001b[0m",
      "\u001b[1;31mFileNotFoundError\u001b[0m                         Traceback (most recent call last)",
      "\u001b[1;32m~\\AppData\\Local\\Temp\\ipykernel_15528\\1794447635.py\u001b[0m in \u001b[0;36m<cell line: 1>\u001b[1;34m()\u001b[0m\n\u001b[1;32m----> 1\u001b[1;33m \u001b[0mfinal_df\u001b[0m \u001b[1;33m=\u001b[0m \u001b[0mpd\u001b[0m\u001b[1;33m.\u001b[0m\u001b[0mread_csv\u001b[0m\u001b[1;33m(\u001b[0m\u001b[1;34m'HP 1O3O G2/telecom_customer_churn_prediction/data/final'\u001b[0m\u001b[1;33m)\u001b[0m\u001b[1;33m\u001b[0m\u001b[1;33m\u001b[0m\u001b[0m\n\u001b[0m",
      "\u001b[1;32m~\\anaconda3\\lib\\site-packages\\pandas\\util\\_decorators.py\u001b[0m in \u001b[0;36mwrapper\u001b[1;34m(*args, **kwargs)\u001b[0m\n\u001b[0;32m    309\u001b[0m                     \u001b[0mstacklevel\u001b[0m\u001b[1;33m=\u001b[0m\u001b[0mstacklevel\u001b[0m\u001b[1;33m,\u001b[0m\u001b[1;33m\u001b[0m\u001b[1;33m\u001b[0m\u001b[0m\n\u001b[0;32m    310\u001b[0m                 )\n\u001b[1;32m--> 311\u001b[1;33m             \u001b[1;32mreturn\u001b[0m \u001b[0mfunc\u001b[0m\u001b[1;33m(\u001b[0m\u001b[1;33m*\u001b[0m\u001b[0margs\u001b[0m\u001b[1;33m,\u001b[0m \u001b[1;33m**\u001b[0m\u001b[0mkwargs\u001b[0m\u001b[1;33m)\u001b[0m\u001b[1;33m\u001b[0m\u001b[1;33m\u001b[0m\u001b[0m\n\u001b[0m\u001b[0;32m    312\u001b[0m \u001b[1;33m\u001b[0m\u001b[0m\n\u001b[0;32m    313\u001b[0m         \u001b[1;32mreturn\u001b[0m \u001b[0mwrapper\u001b[0m\u001b[1;33m\u001b[0m\u001b[1;33m\u001b[0m\u001b[0m\n",
      "\u001b[1;32m~\\anaconda3\\lib\\site-packages\\pandas\\io\\parsers\\readers.py\u001b[0m in \u001b[0;36mread_csv\u001b[1;34m(filepath_or_buffer, sep, delimiter, header, names, index_col, usecols, squeeze, prefix, mangle_dupe_cols, dtype, engine, converters, true_values, false_values, skipinitialspace, skiprows, skipfooter, nrows, na_values, keep_default_na, na_filter, verbose, skip_blank_lines, parse_dates, infer_datetime_format, keep_date_col, date_parser, dayfirst, cache_dates, iterator, chunksize, compression, thousands, decimal, lineterminator, quotechar, quoting, doublequote, escapechar, comment, encoding, encoding_errors, dialect, error_bad_lines, warn_bad_lines, on_bad_lines, delim_whitespace, low_memory, memory_map, float_precision, storage_options)\u001b[0m\n\u001b[0;32m    584\u001b[0m     \u001b[0mkwds\u001b[0m\u001b[1;33m.\u001b[0m\u001b[0mupdate\u001b[0m\u001b[1;33m(\u001b[0m\u001b[0mkwds_defaults\u001b[0m\u001b[1;33m)\u001b[0m\u001b[1;33m\u001b[0m\u001b[1;33m\u001b[0m\u001b[0m\n\u001b[0;32m    585\u001b[0m \u001b[1;33m\u001b[0m\u001b[0m\n\u001b[1;32m--> 586\u001b[1;33m     \u001b[1;32mreturn\u001b[0m \u001b[0m_read\u001b[0m\u001b[1;33m(\u001b[0m\u001b[0mfilepath_or_buffer\u001b[0m\u001b[1;33m,\u001b[0m \u001b[0mkwds\u001b[0m\u001b[1;33m)\u001b[0m\u001b[1;33m\u001b[0m\u001b[1;33m\u001b[0m\u001b[0m\n\u001b[0m\u001b[0;32m    587\u001b[0m \u001b[1;33m\u001b[0m\u001b[0m\n\u001b[0;32m    588\u001b[0m \u001b[1;33m\u001b[0m\u001b[0m\n",
      "\u001b[1;32m~\\anaconda3\\lib\\site-packages\\pandas\\io\\parsers\\readers.py\u001b[0m in \u001b[0;36m_read\u001b[1;34m(filepath_or_buffer, kwds)\u001b[0m\n\u001b[0;32m    480\u001b[0m \u001b[1;33m\u001b[0m\u001b[0m\n\u001b[0;32m    481\u001b[0m     \u001b[1;31m# Create the parser.\u001b[0m\u001b[1;33m\u001b[0m\u001b[1;33m\u001b[0m\u001b[0m\n\u001b[1;32m--> 482\u001b[1;33m     \u001b[0mparser\u001b[0m \u001b[1;33m=\u001b[0m \u001b[0mTextFileReader\u001b[0m\u001b[1;33m(\u001b[0m\u001b[0mfilepath_or_buffer\u001b[0m\u001b[1;33m,\u001b[0m \u001b[1;33m**\u001b[0m\u001b[0mkwds\u001b[0m\u001b[1;33m)\u001b[0m\u001b[1;33m\u001b[0m\u001b[1;33m\u001b[0m\u001b[0m\n\u001b[0m\u001b[0;32m    483\u001b[0m \u001b[1;33m\u001b[0m\u001b[0m\n\u001b[0;32m    484\u001b[0m     \u001b[1;32mif\u001b[0m \u001b[0mchunksize\u001b[0m \u001b[1;32mor\u001b[0m \u001b[0miterator\u001b[0m\u001b[1;33m:\u001b[0m\u001b[1;33m\u001b[0m\u001b[1;33m\u001b[0m\u001b[0m\n",
      "\u001b[1;32m~\\anaconda3\\lib\\site-packages\\pandas\\io\\parsers\\readers.py\u001b[0m in \u001b[0;36m__init__\u001b[1;34m(self, f, engine, **kwds)\u001b[0m\n\u001b[0;32m    809\u001b[0m             \u001b[0mself\u001b[0m\u001b[1;33m.\u001b[0m\u001b[0moptions\u001b[0m\u001b[1;33m[\u001b[0m\u001b[1;34m\"has_index_names\"\u001b[0m\u001b[1;33m]\u001b[0m \u001b[1;33m=\u001b[0m \u001b[0mkwds\u001b[0m\u001b[1;33m[\u001b[0m\u001b[1;34m\"has_index_names\"\u001b[0m\u001b[1;33m]\u001b[0m\u001b[1;33m\u001b[0m\u001b[1;33m\u001b[0m\u001b[0m\n\u001b[0;32m    810\u001b[0m \u001b[1;33m\u001b[0m\u001b[0m\n\u001b[1;32m--> 811\u001b[1;33m         \u001b[0mself\u001b[0m\u001b[1;33m.\u001b[0m\u001b[0m_engine\u001b[0m \u001b[1;33m=\u001b[0m \u001b[0mself\u001b[0m\u001b[1;33m.\u001b[0m\u001b[0m_make_engine\u001b[0m\u001b[1;33m(\u001b[0m\u001b[0mself\u001b[0m\u001b[1;33m.\u001b[0m\u001b[0mengine\u001b[0m\u001b[1;33m)\u001b[0m\u001b[1;33m\u001b[0m\u001b[1;33m\u001b[0m\u001b[0m\n\u001b[0m\u001b[0;32m    812\u001b[0m \u001b[1;33m\u001b[0m\u001b[0m\n\u001b[0;32m    813\u001b[0m     \u001b[1;32mdef\u001b[0m \u001b[0mclose\u001b[0m\u001b[1;33m(\u001b[0m\u001b[0mself\u001b[0m\u001b[1;33m)\u001b[0m\u001b[1;33m:\u001b[0m\u001b[1;33m\u001b[0m\u001b[1;33m\u001b[0m\u001b[0m\n",
      "\u001b[1;32m~\\anaconda3\\lib\\site-packages\\pandas\\io\\parsers\\readers.py\u001b[0m in \u001b[0;36m_make_engine\u001b[1;34m(self, engine)\u001b[0m\n\u001b[0;32m   1038\u001b[0m             )\n\u001b[0;32m   1039\u001b[0m         \u001b[1;31m# error: Too many arguments for \"ParserBase\"\u001b[0m\u001b[1;33m\u001b[0m\u001b[1;33m\u001b[0m\u001b[0m\n\u001b[1;32m-> 1040\u001b[1;33m         \u001b[1;32mreturn\u001b[0m \u001b[0mmapping\u001b[0m\u001b[1;33m[\u001b[0m\u001b[0mengine\u001b[0m\u001b[1;33m]\u001b[0m\u001b[1;33m(\u001b[0m\u001b[0mself\u001b[0m\u001b[1;33m.\u001b[0m\u001b[0mf\u001b[0m\u001b[1;33m,\u001b[0m \u001b[1;33m**\u001b[0m\u001b[0mself\u001b[0m\u001b[1;33m.\u001b[0m\u001b[0moptions\u001b[0m\u001b[1;33m)\u001b[0m  \u001b[1;31m# type: ignore[call-arg]\u001b[0m\u001b[1;33m\u001b[0m\u001b[1;33m\u001b[0m\u001b[0m\n\u001b[0m\u001b[0;32m   1041\u001b[0m \u001b[1;33m\u001b[0m\u001b[0m\n\u001b[0;32m   1042\u001b[0m     \u001b[1;32mdef\u001b[0m \u001b[0m_failover_to_python\u001b[0m\u001b[1;33m(\u001b[0m\u001b[0mself\u001b[0m\u001b[1;33m)\u001b[0m\u001b[1;33m:\u001b[0m\u001b[1;33m\u001b[0m\u001b[1;33m\u001b[0m\u001b[0m\n",
      "\u001b[1;32m~\\anaconda3\\lib\\site-packages\\pandas\\io\\parsers\\c_parser_wrapper.py\u001b[0m in \u001b[0;36m__init__\u001b[1;34m(self, src, **kwds)\u001b[0m\n\u001b[0;32m     49\u001b[0m \u001b[1;33m\u001b[0m\u001b[0m\n\u001b[0;32m     50\u001b[0m         \u001b[1;31m# open handles\u001b[0m\u001b[1;33m\u001b[0m\u001b[1;33m\u001b[0m\u001b[0m\n\u001b[1;32m---> 51\u001b[1;33m         \u001b[0mself\u001b[0m\u001b[1;33m.\u001b[0m\u001b[0m_open_handles\u001b[0m\u001b[1;33m(\u001b[0m\u001b[0msrc\u001b[0m\u001b[1;33m,\u001b[0m \u001b[0mkwds\u001b[0m\u001b[1;33m)\u001b[0m\u001b[1;33m\u001b[0m\u001b[1;33m\u001b[0m\u001b[0m\n\u001b[0m\u001b[0;32m     52\u001b[0m         \u001b[1;32massert\u001b[0m \u001b[0mself\u001b[0m\u001b[1;33m.\u001b[0m\u001b[0mhandles\u001b[0m \u001b[1;32mis\u001b[0m \u001b[1;32mnot\u001b[0m \u001b[1;32mNone\u001b[0m\u001b[1;33m\u001b[0m\u001b[1;33m\u001b[0m\u001b[0m\n\u001b[0;32m     53\u001b[0m \u001b[1;33m\u001b[0m\u001b[0m\n",
      "\u001b[1;32m~\\anaconda3\\lib\\site-packages\\pandas\\io\\parsers\\base_parser.py\u001b[0m in \u001b[0;36m_open_handles\u001b[1;34m(self, src, kwds)\u001b[0m\n\u001b[0;32m    220\u001b[0m         \u001b[0mLet\u001b[0m \u001b[0mthe\u001b[0m \u001b[0mreaders\u001b[0m \u001b[0mopen\u001b[0m \u001b[0mIOHandles\u001b[0m \u001b[0mafter\u001b[0m \u001b[0mthey\u001b[0m \u001b[0mare\u001b[0m \u001b[0mdone\u001b[0m \u001b[1;32mwith\u001b[0m \u001b[0mtheir\u001b[0m \u001b[0mpotential\u001b[0m \u001b[0mraises\u001b[0m\u001b[1;33m.\u001b[0m\u001b[1;33m\u001b[0m\u001b[1;33m\u001b[0m\u001b[0m\n\u001b[0;32m    221\u001b[0m         \"\"\"\n\u001b[1;32m--> 222\u001b[1;33m         self.handles = get_handle(\n\u001b[0m\u001b[0;32m    223\u001b[0m             \u001b[0msrc\u001b[0m\u001b[1;33m,\u001b[0m\u001b[1;33m\u001b[0m\u001b[1;33m\u001b[0m\u001b[0m\n\u001b[0;32m    224\u001b[0m             \u001b[1;34m\"r\"\u001b[0m\u001b[1;33m,\u001b[0m\u001b[1;33m\u001b[0m\u001b[1;33m\u001b[0m\u001b[0m\n",
      "\u001b[1;32m~\\anaconda3\\lib\\site-packages\\pandas\\io\\common.py\u001b[0m in \u001b[0;36mget_handle\u001b[1;34m(path_or_buf, mode, encoding, compression, memory_map, is_text, errors, storage_options)\u001b[0m\n\u001b[0;32m    700\u001b[0m         \u001b[1;32mif\u001b[0m \u001b[0mioargs\u001b[0m\u001b[1;33m.\u001b[0m\u001b[0mencoding\u001b[0m \u001b[1;32mand\u001b[0m \u001b[1;34m\"b\"\u001b[0m \u001b[1;32mnot\u001b[0m \u001b[1;32min\u001b[0m \u001b[0mioargs\u001b[0m\u001b[1;33m.\u001b[0m\u001b[0mmode\u001b[0m\u001b[1;33m:\u001b[0m\u001b[1;33m\u001b[0m\u001b[1;33m\u001b[0m\u001b[0m\n\u001b[0;32m    701\u001b[0m             \u001b[1;31m# Encoding\u001b[0m\u001b[1;33m\u001b[0m\u001b[1;33m\u001b[0m\u001b[0m\n\u001b[1;32m--> 702\u001b[1;33m             handle = open(\n\u001b[0m\u001b[0;32m    703\u001b[0m                 \u001b[0mhandle\u001b[0m\u001b[1;33m,\u001b[0m\u001b[1;33m\u001b[0m\u001b[1;33m\u001b[0m\u001b[0m\n\u001b[0;32m    704\u001b[0m                 \u001b[0mioargs\u001b[0m\u001b[1;33m.\u001b[0m\u001b[0mmode\u001b[0m\u001b[1;33m,\u001b[0m\u001b[1;33m\u001b[0m\u001b[1;33m\u001b[0m\u001b[0m\n",
      "\u001b[1;31mFileNotFoundError\u001b[0m: [Errno 2] No such file or directory: 'HP 1O3O G2/telecom_customer_churn_prediction/data/final'"
     ]
    }
   ],
   "source": [
    "final_df = pd.read_csv('HP 1O3O G2/telecom_customer_churn_prediction/data/final')"
   ]
  },
  {
   "cell_type": "code",
   "execution_count": 75,
   "id": "a767dc23",
   "metadata": {},
   "outputs": [],
   "source": [
    "import numpy\n",
    "data_in = numpy.array([1,2,3])"
   ]
  },
  {
   "cell_type": "code",
   "execution_count": 89,
   "id": "01c560f5",
   "metadata": {},
   "outputs": [
    {
     "data": {
      "text/plain": [
       "numpy.ndarray"
      ]
     },
     "execution_count": 89,
     "metadata": {},
     "output_type": "execute_result"
    }
   ],
   "source": [
    "type(data_in)"
   ]
  },
  {
   "cell_type": "code",
   "execution_count": 94,
   "id": "5032b943",
   "metadata": {},
   "outputs": [],
   "source": [
    "a = [[2,3,4]]"
   ]
  },
  {
   "cell_type": "code",
   "execution_count": 103,
   "id": "ece0dcd1",
   "metadata": {},
   "outputs": [
    {
     "data": {
      "text/plain": [
       "2"
      ]
     },
     "execution_count": 103,
     "metadata": {},
     "output_type": "execute_result"
    }
   ],
   "source": [
    "np.array(a)[0][0]"
   ]
  },
  {
   "cell_type": "code",
   "execution_count": 120,
   "id": "08d4211b",
   "metadata": {},
   "outputs": [],
   "source": [
    "a = {'a':3, 'b':5}"
   ]
  },
  {
   "cell_type": "code",
   "execution_count": 121,
   "id": "6538dd08",
   "metadata": {},
   "outputs": [
    {
     "data": {
      "text/plain": [
       "dict"
      ]
     },
     "execution_count": 121,
     "metadata": {},
     "output_type": "execute_result"
    }
   ],
   "source": [
    "type(a)"
   ]
  },
  {
   "cell_type": "code",
   "execution_count": 135,
   "id": "b4db6644",
   "metadata": {},
   "outputs": [],
   "source": [
    "df = pd.DataFrame({'y':[a['a']],'z':[a['b']]})"
   ]
  },
  {
   "cell_type": "code",
   "execution_count": 136,
   "id": "bf2f1ff6",
   "metadata": {},
   "outputs": [
    {
     "data": {
      "text/html": [
       "<div>\n",
       "<style scoped>\n",
       "    .dataframe tbody tr th:only-of-type {\n",
       "        vertical-align: middle;\n",
       "    }\n",
       "\n",
       "    .dataframe tbody tr th {\n",
       "        vertical-align: top;\n",
       "    }\n",
       "\n",
       "    .dataframe thead th {\n",
       "        text-align: right;\n",
       "    }\n",
       "</style>\n",
       "<table border=\"1\" class=\"dataframe\">\n",
       "  <thead>\n",
       "    <tr style=\"text-align: right;\">\n",
       "      <th></th>\n",
       "      <th>y</th>\n",
       "      <th>z</th>\n",
       "    </tr>\n",
       "  </thead>\n",
       "  <tbody>\n",
       "    <tr>\n",
       "      <th>0</th>\n",
       "      <td>3</td>\n",
       "      <td>5</td>\n",
       "    </tr>\n",
       "  </tbody>\n",
       "</table>\n",
       "</div>"
      ],
      "text/plain": [
       "   y  z\n",
       "0  3  5"
      ]
     },
     "execution_count": 136,
     "metadata": {},
     "output_type": "execute_result"
    }
   ],
   "source": [
    "df"
   ]
  },
  {
   "cell_type": "code",
   "execution_count": 119,
   "id": "05b00d49",
   "metadata": {},
   "outputs": [
    {
     "data": {
      "text/html": [
       "<div>\n",
       "<style scoped>\n",
       "    .dataframe tbody tr th:only-of-type {\n",
       "        vertical-align: middle;\n",
       "    }\n",
       "\n",
       "    .dataframe tbody tr th {\n",
       "        vertical-align: top;\n",
       "    }\n",
       "\n",
       "    .dataframe thead th {\n",
       "        text-align: right;\n",
       "    }\n",
       "</style>\n",
       "<table border=\"1\" class=\"dataframe\">\n",
       "  <thead>\n",
       "    <tr style=\"text-align: right;\">\n",
       "      <th></th>\n",
       "      <th>a</th>\n",
       "      <th>b</th>\n",
       "    </tr>\n",
       "  </thead>\n",
       "  <tbody>\n",
       "    <tr>\n",
       "      <th>0</th>\n",
       "      <td>c</td>\n",
       "      <td>d</td>\n",
       "    </tr>\n",
       "  </tbody>\n",
       "</table>\n",
       "</div>"
      ],
      "text/plain": [
       "   a  b\n",
       "0  c  d"
      ]
     },
     "execution_count": 119,
     "metadata": {},
     "output_type": "execute_result"
    }
   ],
   "source": [
    "pd.DataFrame(r)"
   ]
  },
  {
   "cell_type": "code",
   "execution_count": 106,
   "id": "fcd25e7d",
   "metadata": {},
   "outputs": [
    {
     "data": {
      "text/html": [
       "<div>\n",
       "<style scoped>\n",
       "    .dataframe tbody tr th:only-of-type {\n",
       "        vertical-align: middle;\n",
       "    }\n",
       "\n",
       "    .dataframe tbody tr th {\n",
       "        vertical-align: top;\n",
       "    }\n",
       "\n",
       "    .dataframe thead th {\n",
       "        text-align: right;\n",
       "    }\n",
       "</style>\n",
       "<table border=\"1\" class=\"dataframe\">\n",
       "  <thead>\n",
       "    <tr style=\"text-align: right;\">\n",
       "      <th></th>\n",
       "      <th>a</th>\n",
       "      <th>b</th>\n",
       "    </tr>\n",
       "  </thead>\n",
       "  <tbody>\n",
       "    <tr>\n",
       "      <th>0</th>\n",
       "      <td>3</td>\n",
       "      <td>4</td>\n",
       "    </tr>\n",
       "  </tbody>\n",
       "</table>\n",
       "</div>"
      ],
      "text/plain": [
       "   a  b\n",
       "0  3  4"
      ]
     },
     "execution_count": 106,
     "metadata": {},
     "output_type": "execute_result"
    }
   ],
   "source": [
    "pd.DataFrame(a)"
   ]
  },
  {
   "cell_type": "code",
   "execution_count": 139,
   "id": "af946218",
   "metadata": {},
   "outputs": [],
   "source": [
    "#!pip install pydiantic\n",
    "from pydantic import BaseModel"
   ]
  },
  {
   "cell_type": "code",
   "execution_count": 148,
   "id": "103d76c9",
   "metadata": {},
   "outputs": [],
   "source": [
    "class ChurnFeature(BaseModel):\n",
    "    Zip_Code: int\n",
    "    Latitude: float\n",
    "    Longitude: float\n",
    "    Tenure_Months: int\n",
    "    Monthly_Charges: float\n",
    "    Total_Charges: float\n",
    "    Gender_Male: int\n",
    "    Senior_Citizen_Yes: int\n",
    "    Partner_Yes: int\n",
    "    Dependents_Yes: int\n",
    "    Phone_Service_Yes: int\n",
    "    Multiple_Lines_No_phone_service: int\n",
    "    Multiple_Lines_Yes: int\n",
    "    Internet_Service_Fiber_optic: int\n",
    "    Internet_Service_No: int\n",
    "    Online_Security_No_internet_service:int\n",
    "    Online_Security_Yes: int\n",
    "    Online_Backup_No_internet_service: int\n",
    "    Online_Backup_Yes: int\n",
    "    Device_Protection_No_internet_service: int\n",
    "    Device_Protection_Yes: int\n",
    "    Tech_Support_No_internet_service: int\n",
    "    Tech_Support_Yes: int\n",
    "    Streaming_TV_No_internet_service: int\n",
    "    Streaming_TV_Yes: int\n",
    "    Streaming_Movies_No_internet_service: int\n",
    "    Streaming_Movies_Yes: int\n",
    "    Contract_One_year: int\n",
    "    Contract_Two_year: int\n",
    "    Paperless_Billing_Yes: int\n",
    "    Payment_Method_Credit_card_automatic: int\n",
    "    Payment_Method_Electronic_check: int\n",
    "    Payment_Method_Mailed_check: int"
   ]
  },
  {
   "cell_type": "code",
   "execution_count": 149,
   "id": "e8efaf19",
   "metadata": {},
   "outputs": [],
   "source": [
    "from fastapi import FastAPI\n",
    "app = FastAPI()\n",
    "@app.post('/predict')\n",
    "def predict_churn_api(feature: ChurnFeature):\n",
    "    data = feature.dict()\n",
    "    dic = {'Zip_Code': [data['Zip_Code']], 'Latitude': [data['Latitude']], 'Longitude': [data['Longitude']],\n",
    "           'Tenure_Months': [data['Tenure_Months']],\n",
    "           'Monthly_Charges': [data['Monthly_Charges']], 'Total_Charges': [data['Total_Charges']],\n",
    "           'Gender_Male': [data['Gender_Male']], 'Senior_Citizen_Yes': [data['Senior_Citizen_Yes']],\n",
    "           'Partner_Yes': [data['Partner_Yes']], 'Dependents_Yes': [data['Dependents_Yes']],\n",
    "           'Phone_Service_Yes': [data['Phone_Service_Yes']],\n",
    "           'Multiple_Lines_No_phone_service': [data['Multiple_Lines_No_phone_service']],\n",
    "           'Multiple_Lines_Yes': [data['Multiple_Lines_Yes']],\n",
    "           'Internet_Service_Fiber_optic': [data['Internet_Service_Fiber_optic']],\n",
    "           'Internet_Service_No': [data['Internet_Service_No']],\n",
    "           'Online_Security_No_internet_service': [data['Online_Security_No_internet_service']],\n",
    "           'Online_Security_Yes': [data['Online_Security_Yes']],\n",
    "           'Online_Backup_No_internet_service': [data['Online_Backup_No_internet_service']],\n",
    "           'Online_Backup_Yes': [data['Online_Backup_Yes']],\n",
    "           'Device_Protection_No_internet_service': [data['Device_Protection_No_internet_service']],\n",
    "           'Device_Protection_Yes': [data['Device_Protection_Yes']],\n",
    "           'Tech_Support_No_internet_service': [data['Tech_Support_No_internet_service']],\n",
    "           'Tech_Support_Yes': [data['Tech_Support_Yes']],\n",
    "           'Streaming_TV_No_internet_service': data['Streaming_TV_No_internet_service'],\n",
    "           'Streaming_TV_Yes': [data['Streaming_TV_Yes']],\n",
    "           'Streaming_Movies_No_internet_service': [data['Streaming_Movies_No_internet_service']],\n",
    "           'Streaming_Movies_Yes': [data['Streaming_Movies_Yes']], 'Contract_One_year': [data['Contract_One_year']],\n",
    "           'Contract_Two_year': [data['Contract_Two_year']], 'Paperless_Billing_Yes': [data['Paperless_Billing_Yes']],\n",
    "           'Payment_Method_Credit_card_automatic': [data['Payment_Method_Credit_card_automatic']],\n",
    "           'Payment_Method_Electronic_check': [data['Payment_Method_Electronic_check']],\n",
    "           'Payment_Method_Mailed_check': [data['Payment_Method_Mailed_check']]}"
   ]
  },
  {
   "cell_type": "code",
   "execution_count": 151,
   "id": "82027ea3",
   "metadata": {},
   "outputs": [
    {
     "ename": "NameError",
     "evalue": "name 'dic' is not defined",
     "output_type": "error",
     "traceback": [
      "\u001b[1;31m---------------------------------------------------------------------------\u001b[0m",
      "\u001b[1;31mNameError\u001b[0m                                 Traceback (most recent call last)",
      "\u001b[1;32m~\\AppData\\Local\\Temp\\ipykernel_15528\\1780369169.py\u001b[0m in \u001b[0;36m<cell line: 1>\u001b[1;34m()\u001b[0m\n\u001b[1;32m----> 1\u001b[1;33m \u001b[0mdic\u001b[0m\u001b[1;33m\u001b[0m\u001b[1;33m\u001b[0m\u001b[0m\n\u001b[0m",
      "\u001b[1;31mNameError\u001b[0m: name 'dic' is not defined"
     ]
    }
   ],
   "source": [
    "dic"
   ]
  },
  {
   "cell_type": "code",
   "execution_count": 161,
   "id": "5969f4a2",
   "metadata": {},
   "outputs": [
    {
     "data": {
      "text/html": [
       "<div>\n",
       "<style scoped>\n",
       "    .dataframe tbody tr th:only-of-type {\n",
       "        vertical-align: middle;\n",
       "    }\n",
       "\n",
       "    .dataframe tbody tr th {\n",
       "        vertical-align: top;\n",
       "    }\n",
       "\n",
       "    .dataframe thead th {\n",
       "        text-align: right;\n",
       "    }\n",
       "</style>\n",
       "<table border=\"1\" class=\"dataframe\">\n",
       "  <thead>\n",
       "    <tr style=\"text-align: right;\">\n",
       "      <th></th>\n",
       "      <th>0</th>\n",
       "    </tr>\n",
       "  </thead>\n",
       "  <tbody>\n",
       "    <tr>\n",
       "      <th>0</th>\n",
       "      <td>{'a': 3, 'b': 5}</td>\n",
       "    </tr>\n",
       "    <tr>\n",
       "      <th>1</th>\n",
       "      <td>[[1], [2], [3]]</td>\n",
       "    </tr>\n",
       "  </tbody>\n",
       "</table>\n",
       "</div>"
      ],
      "text/plain": [
       "                  0\n",
       "0  {'a': 3, 'b': 5}\n",
       "1   [[1], [2], [3]]"
      ]
     },
     "execution_count": 161,
     "metadata": {},
     "output_type": "execute_result"
    }
   ],
   "source": [
    "pd.DataFrame([[a],[b]])"
   ]
  },
  {
   "cell_type": "code",
   "execution_count": null,
   "id": "d827816e",
   "metadata": {},
   "outputs": [],
   "source": []
  }
 ],
 "metadata": {
  "kernelspec": {
   "display_name": "Python (.venv)",
   "language": "python",
   "name": ".venv"
  },
  "language_info": {
   "codemirror_mode": {
    "name": "ipython",
    "version": 3
   },
   "file_extension": ".py",
   "mimetype": "text/x-python",
   "name": "python",
   "nbconvert_exporter": "python",
   "pygments_lexer": "ipython3",
   "version": "3.9.12"
  }
 },
 "nbformat": 4,
 "nbformat_minor": 5
}
