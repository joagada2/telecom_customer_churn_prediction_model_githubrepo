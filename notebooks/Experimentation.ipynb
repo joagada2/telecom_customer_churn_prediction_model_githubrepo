{
 "cells": [
  {
   "cell_type": "code",
   "execution_count": 97,
   "id": "533a993e",
   "metadata": {},
   "outputs": [],
   "source": [
    "#import librarries\n",
    "import pandas as pd\n",
    "import seaborn as sns\n",
    "import numpy as np\n",
    "import xgboost as xgb\n",
    "from sklearn.model_selection import train_test_split\n",
    "from sklearn.metrics import classification_report, balanced_accuracy_score, roc_auc_score, make_scorer, f1_score, precision_score, recall_score\n",
    "from sklearn.model_selection import GridSearchCV\n",
    "from sklearn.metrics import confusion_matrix\n",
    "from sklearn.metrics import plot_confusion_matrix\n",
    "import matplotlib.pyplot as plt\n",
    "import seaborn as sns"
   ]
  },
  {
   "cell_type": "code",
   "execution_count": 98,
   "id": "feee9686",
   "metadata": {},
   "outputs": [
    {
     "data": {
      "text/html": [
       "<div>\n",
       "<style scoped>\n",
       "    .dataframe tbody tr th:only-of-type {\n",
       "        vertical-align: middle;\n",
       "    }\n",
       "\n",
       "    .dataframe tbody tr th {\n",
       "        vertical-align: top;\n",
       "    }\n",
       "\n",
       "    .dataframe thead th {\n",
       "        text-align: right;\n",
       "    }\n",
       "</style>\n",
       "<table border=\"1\" class=\"dataframe\">\n",
       "  <thead>\n",
       "    <tr style=\"text-align: right;\">\n",
       "      <th></th>\n",
       "      <th>CustomerID</th>\n",
       "      <th>Count</th>\n",
       "      <th>Country</th>\n",
       "      <th>State</th>\n",
       "      <th>City</th>\n",
       "      <th>Zip Code</th>\n",
       "      <th>Lat Long</th>\n",
       "      <th>Latitude</th>\n",
       "      <th>Longitude</th>\n",
       "      <th>Gender</th>\n",
       "      <th>...</th>\n",
       "      <th>Contract</th>\n",
       "      <th>Paperless Billing</th>\n",
       "      <th>Payment Method</th>\n",
       "      <th>Monthly Charges</th>\n",
       "      <th>Total Charges</th>\n",
       "      <th>Churn Label</th>\n",
       "      <th>Churn Value</th>\n",
       "      <th>Churn Score</th>\n",
       "      <th>CLTV</th>\n",
       "      <th>Churn Reason</th>\n",
       "    </tr>\n",
       "  </thead>\n",
       "  <tbody>\n",
       "    <tr>\n",
       "      <th>0</th>\n",
       "      <td>3668-QPYBK</td>\n",
       "      <td>1</td>\n",
       "      <td>United States</td>\n",
       "      <td>California</td>\n",
       "      <td>Los Angeles</td>\n",
       "      <td>90003</td>\n",
       "      <td>33.964131, -118.272783</td>\n",
       "      <td>33.964131</td>\n",
       "      <td>-118.272783</td>\n",
       "      <td>Male</td>\n",
       "      <td>...</td>\n",
       "      <td>Month-to-month</td>\n",
       "      <td>Yes</td>\n",
       "      <td>Mailed check</td>\n",
       "      <td>53.85</td>\n",
       "      <td>108.15</td>\n",
       "      <td>Yes</td>\n",
       "      <td>1</td>\n",
       "      <td>86</td>\n",
       "      <td>3239</td>\n",
       "      <td>Competitor made better offer</td>\n",
       "    </tr>\n",
       "    <tr>\n",
       "      <th>1</th>\n",
       "      <td>9237-HQITU</td>\n",
       "      <td>1</td>\n",
       "      <td>United States</td>\n",
       "      <td>California</td>\n",
       "      <td>Los Angeles</td>\n",
       "      <td>90005</td>\n",
       "      <td>34.059281, -118.30742</td>\n",
       "      <td>34.059281</td>\n",
       "      <td>-118.307420</td>\n",
       "      <td>Female</td>\n",
       "      <td>...</td>\n",
       "      <td>Month-to-month</td>\n",
       "      <td>Yes</td>\n",
       "      <td>Electronic check</td>\n",
       "      <td>70.70</td>\n",
       "      <td>151.65</td>\n",
       "      <td>Yes</td>\n",
       "      <td>1</td>\n",
       "      <td>67</td>\n",
       "      <td>2701</td>\n",
       "      <td>Moved</td>\n",
       "    </tr>\n",
       "    <tr>\n",
       "      <th>2</th>\n",
       "      <td>9305-CDSKC</td>\n",
       "      <td>1</td>\n",
       "      <td>United States</td>\n",
       "      <td>California</td>\n",
       "      <td>Los Angeles</td>\n",
       "      <td>90006</td>\n",
       "      <td>34.048013, -118.293953</td>\n",
       "      <td>34.048013</td>\n",
       "      <td>-118.293953</td>\n",
       "      <td>Female</td>\n",
       "      <td>...</td>\n",
       "      <td>Month-to-month</td>\n",
       "      <td>Yes</td>\n",
       "      <td>Electronic check</td>\n",
       "      <td>99.65</td>\n",
       "      <td>820.5</td>\n",
       "      <td>Yes</td>\n",
       "      <td>1</td>\n",
       "      <td>86</td>\n",
       "      <td>5372</td>\n",
       "      <td>Moved</td>\n",
       "    </tr>\n",
       "    <tr>\n",
       "      <th>3</th>\n",
       "      <td>7892-POOKP</td>\n",
       "      <td>1</td>\n",
       "      <td>United States</td>\n",
       "      <td>California</td>\n",
       "      <td>Los Angeles</td>\n",
       "      <td>90010</td>\n",
       "      <td>34.062125, -118.315709</td>\n",
       "      <td>34.062125</td>\n",
       "      <td>-118.315709</td>\n",
       "      <td>Female</td>\n",
       "      <td>...</td>\n",
       "      <td>Month-to-month</td>\n",
       "      <td>Yes</td>\n",
       "      <td>Electronic check</td>\n",
       "      <td>104.80</td>\n",
       "      <td>3046.05</td>\n",
       "      <td>Yes</td>\n",
       "      <td>1</td>\n",
       "      <td>84</td>\n",
       "      <td>5003</td>\n",
       "      <td>Moved</td>\n",
       "    </tr>\n",
       "    <tr>\n",
       "      <th>4</th>\n",
       "      <td>0280-XJGEX</td>\n",
       "      <td>1</td>\n",
       "      <td>United States</td>\n",
       "      <td>California</td>\n",
       "      <td>Los Angeles</td>\n",
       "      <td>90015</td>\n",
       "      <td>34.039224, -118.266293</td>\n",
       "      <td>34.039224</td>\n",
       "      <td>-118.266293</td>\n",
       "      <td>Male</td>\n",
       "      <td>...</td>\n",
       "      <td>Month-to-month</td>\n",
       "      <td>Yes</td>\n",
       "      <td>Bank transfer (automatic)</td>\n",
       "      <td>103.70</td>\n",
       "      <td>5036.3</td>\n",
       "      <td>Yes</td>\n",
       "      <td>1</td>\n",
       "      <td>89</td>\n",
       "      <td>5340</td>\n",
       "      <td>Competitor had better devices</td>\n",
       "    </tr>\n",
       "  </tbody>\n",
       "</table>\n",
       "<p>5 rows × 33 columns</p>\n",
       "</div>"
      ],
      "text/plain": [
       "   CustomerID  Count        Country       State         City  Zip Code  \\\n",
       "0  3668-QPYBK      1  United States  California  Los Angeles     90003   \n",
       "1  9237-HQITU      1  United States  California  Los Angeles     90005   \n",
       "2  9305-CDSKC      1  United States  California  Los Angeles     90006   \n",
       "3  7892-POOKP      1  United States  California  Los Angeles     90010   \n",
       "4  0280-XJGEX      1  United States  California  Los Angeles     90015   \n",
       "\n",
       "                 Lat Long   Latitude   Longitude  Gender  ...        Contract  \\\n",
       "0  33.964131, -118.272783  33.964131 -118.272783    Male  ...  Month-to-month   \n",
       "1   34.059281, -118.30742  34.059281 -118.307420  Female  ...  Month-to-month   \n",
       "2  34.048013, -118.293953  34.048013 -118.293953  Female  ...  Month-to-month   \n",
       "3  34.062125, -118.315709  34.062125 -118.315709  Female  ...  Month-to-month   \n",
       "4  34.039224, -118.266293  34.039224 -118.266293    Male  ...  Month-to-month   \n",
       "\n",
       "  Paperless Billing             Payment Method  Monthly Charges Total Charges  \\\n",
       "0               Yes               Mailed check            53.85        108.15   \n",
       "1               Yes           Electronic check            70.70        151.65   \n",
       "2               Yes           Electronic check            99.65         820.5   \n",
       "3               Yes           Electronic check           104.80       3046.05   \n",
       "4               Yes  Bank transfer (automatic)           103.70        5036.3   \n",
       "\n",
       "  Churn Label Churn Value Churn Score  CLTV                   Churn Reason  \n",
       "0         Yes           1          86  3239   Competitor made better offer  \n",
       "1         Yes           1          67  2701                          Moved  \n",
       "2         Yes           1          86  5372                          Moved  \n",
       "3         Yes           1          84  5003                          Moved  \n",
       "4         Yes           1          89  5340  Competitor had better devices  \n",
       "\n",
       "[5 rows x 33 columns]"
      ]
     },
     "execution_count": 98,
     "metadata": {},
     "output_type": "execute_result"
    }
   ],
   "source": [
    "#import data and display first 5 records\n",
    "df = pd.read_csv('../data/raw/churn.csv')\n",
    "df.head()"
   ]
  },
  {
   "cell_type": "markdown",
   "id": "f9fbef5f",
   "metadata": {},
   "source": [
    "## DATA CLEANING"
   ]
  },
  {
   "cell_type": "code",
   "execution_count": 99,
   "id": "7246eec9",
   "metadata": {},
   "outputs": [
    {
     "name": "stdout",
     "output_type": "stream",
     "text": [
      "<class 'pandas.core.frame.DataFrame'>\n",
      "RangeIndex: 7043 entries, 0 to 7042\n",
      "Data columns (total 33 columns):\n",
      " #   Column             Non-Null Count  Dtype  \n",
      "---  ------             --------------  -----  \n",
      " 0   CustomerID         7043 non-null   object \n",
      " 1   Count              7043 non-null   int64  \n",
      " 2   Country            7043 non-null   object \n",
      " 3   State              7043 non-null   object \n",
      " 4   City               7043 non-null   object \n",
      " 5   Zip Code           7043 non-null   int64  \n",
      " 6   Lat Long           7043 non-null   object \n",
      " 7   Latitude           7043 non-null   float64\n",
      " 8   Longitude          7043 non-null   float64\n",
      " 9   Gender             7043 non-null   object \n",
      " 10  Senior Citizen     7043 non-null   object \n",
      " 11  Partner            7043 non-null   object \n",
      " 12  Dependents         7043 non-null   object \n",
      " 13  Tenure Months      7043 non-null   int64  \n",
      " 14  Phone Service      7043 non-null   object \n",
      " 15  Multiple Lines     7043 non-null   object \n",
      " 16  Internet Service   7043 non-null   object \n",
      " 17  Online Security    7043 non-null   object \n",
      " 18  Online Backup      7043 non-null   object \n",
      " 19  Device Protection  7043 non-null   object \n",
      " 20  Tech Support       7043 non-null   object \n",
      " 21  Streaming TV       7043 non-null   object \n",
      " 22  Streaming Movies   7043 non-null   object \n",
      " 23  Contract           7043 non-null   object \n",
      " 24  Paperless Billing  7043 non-null   object \n",
      " 25  Payment Method     7043 non-null   object \n",
      " 26  Monthly Charges    7043 non-null   float64\n",
      " 27  Total Charges      7043 non-null   object \n",
      " 28  Churn Label        7043 non-null   object \n",
      " 29  Churn Value        7043 non-null   int64  \n",
      " 30  Churn Score        7043 non-null   int64  \n",
      " 31  CLTV               7043 non-null   int64  \n",
      " 32  Churn Reason       1869 non-null   object \n",
      "dtypes: float64(3), int64(6), object(24)\n",
      "memory usage: 1.8+ MB\n"
     ]
    }
   ],
   "source": [
    "#check data type of features\n",
    "df.info()"
   ]
  },
  {
   "cell_type": "code",
   "execution_count": 100,
   "id": "4ef39d46",
   "metadata": {},
   "outputs": [
    {
     "data": {
      "text/plain": [
       "CustomerID              0\n",
       "Count                   0\n",
       "Country                 0\n",
       "State                   0\n",
       "City                    0\n",
       "Zip Code                0\n",
       "Lat Long                0\n",
       "Latitude                0\n",
       "Longitude               0\n",
       "Gender                  0\n",
       "Senior Citizen          0\n",
       "Partner                 0\n",
       "Dependents              0\n",
       "Tenure Months           0\n",
       "Phone Service           0\n",
       "Multiple Lines          0\n",
       "Internet Service        0\n",
       "Online Security         0\n",
       "Online Backup           0\n",
       "Device Protection       0\n",
       "Tech Support            0\n",
       "Streaming TV            0\n",
       "Streaming Movies        0\n",
       "Contract                0\n",
       "Paperless Billing       0\n",
       "Payment Method          0\n",
       "Monthly Charges         0\n",
       "Total Charges           0\n",
       "Churn Label             0\n",
       "Churn Value             0\n",
       "Churn Score             0\n",
       "CLTV                    0\n",
       "Churn Reason         5174\n",
       "dtype: int64"
      ]
     },
     "execution_count": 100,
     "metadata": {},
     "output_type": "execute_result"
    }
   ],
   "source": [
    "#check for missing values\n",
    "df.isnull().sum()"
   ]
  },
  {
   "cell_type": "markdown",
   "id": "74b0889c",
   "metadata": {},
   "source": [
    "### Check and drop columns that may not be useful"
   ]
  },
  {
   "cell_type": "code",
   "execution_count": 101,
   "id": "766e89e3",
   "metadata": {},
   "outputs": [
    {
     "data": {
      "text/plain": [
       "Index(['CustomerID', 'Count', 'Country', 'State', 'City', 'Zip Code',\n",
       "       'Lat Long', 'Latitude', 'Longitude', 'Gender', 'Senior Citizen',\n",
       "       'Partner', 'Dependents', 'Tenure Months', 'Phone Service',\n",
       "       'Multiple Lines', 'Internet Service', 'Online Security',\n",
       "       'Online Backup', 'Device Protection', 'Tech Support', 'Streaming TV',\n",
       "       'Streaming Movies', 'Contract', 'Paperless Billing', 'Payment Method',\n",
       "       'Monthly Charges', 'Total Charges', 'Churn Label', 'Churn Value',\n",
       "       'Churn Score', 'CLTV', 'Churn Reason'],\n",
       "      dtype='object')"
      ]
     },
     "execution_count": 101,
     "metadata": {},
     "output_type": "execute_result"
    }
   ],
   "source": [
    "#visualize columns\n",
    "df.columns"
   ]
  },
  {
   "cell_type": "code",
   "execution_count": 102,
   "id": "ef7a1c5a",
   "metadata": {},
   "outputs": [
    {
     "data": {
      "text/plain": [
       "1"
      ]
     },
     "execution_count": 102,
     "metadata": {},
     "output_type": "execute_result"
    }
   ],
   "source": [
    "# Count has only one unique value and won't be useful for prediction\n",
    "df['Count'].nunique()"
   ]
  },
  {
   "cell_type": "code",
   "execution_count": 103,
   "id": "bca823eb",
   "metadata": {},
   "outputs": [
    {
     "data": {
      "text/plain": [
       "1"
      ]
     },
     "execution_count": 103,
     "metadata": {},
     "output_type": "execute_result"
    }
   ],
   "source": [
    "# Country has only one unique value and won't be useful for prediction\n",
    "df['Country'].nunique()"
   ]
  },
  {
   "cell_type": "code",
   "execution_count": 104,
   "id": "53f53de9",
   "metadata": {},
   "outputs": [
    {
     "data": {
      "text/plain": [
       "1"
      ]
     },
     "execution_count": 104,
     "metadata": {},
     "output_type": "execute_result"
    }
   ],
   "source": [
    "# State has only one unique value and won't be useful for prediction\n",
    "df['State'].nunique()"
   ]
  },
  {
   "cell_type": "code",
   "execution_count": 105,
   "id": "b6c7a635",
   "metadata": {},
   "outputs": [
    {
     "data": {
      "text/plain": [
       "7043"
      ]
     },
     "execution_count": 105,
     "metadata": {},
     "output_type": "execute_result"
    }
   ],
   "source": [
    "# Every customer (column) has unique value for CustomerID hence CustomerID column won't be useful for preduction\n",
    "df['CustomerID'].nunique()"
   ]
  },
  {
   "cell_type": "code",
   "execution_count": 106,
   "id": "460bfe36",
   "metadata": {},
   "outputs": [
    {
     "data": {
      "text/plain": [
       "1129"
      ]
     },
     "execution_count": 106,
     "metadata": {},
     "output_type": "execute_result"
    }
   ],
   "source": [
    "# City (column) has too many unique values\n",
    "df['City'].nunique()"
   ]
  },
  {
   "cell_type": "code",
   "execution_count": 107,
   "id": "6cde5d2d",
   "metadata": {},
   "outputs": [
    {
     "data": {
      "text/plain": [
       "3438"
      ]
     },
     "execution_count": 107,
     "metadata": {},
     "output_type": "execute_result"
    }
   ],
   "source": [
    "#too many unique values\n",
    "df['CLTV'].nunique()"
   ]
  },
  {
   "cell_type": "code",
   "execution_count": 14,
   "id": "a07a46bc",
   "metadata": {},
   "outputs": [],
   "source": [
    "df.drop(['Churn Label','Churn Score', 'CLTV', 'Churn Reason',\n",
    "        'Count', 'Country', 'State', 'CustomerID', 'Lat Long','City'], axis = 1, inplace = True)"
   ]
  },
  {
   "cell_type": "code",
   "execution_count": 15,
   "id": "ebc4de9c",
   "metadata": {},
   "outputs": [
    {
     "data": {
      "text/html": [
       "<div>\n",
       "<style scoped>\n",
       "    .dataframe tbody tr th:only-of-type {\n",
       "        vertical-align: middle;\n",
       "    }\n",
       "\n",
       "    .dataframe tbody tr th {\n",
       "        vertical-align: top;\n",
       "    }\n",
       "\n",
       "    .dataframe thead th {\n",
       "        text-align: right;\n",
       "    }\n",
       "</style>\n",
       "<table border=\"1\" class=\"dataframe\">\n",
       "  <thead>\n",
       "    <tr style=\"text-align: right;\">\n",
       "      <th></th>\n",
       "      <th>Zip Code</th>\n",
       "      <th>Latitude</th>\n",
       "      <th>Longitude</th>\n",
       "      <th>Gender</th>\n",
       "      <th>Senior Citizen</th>\n",
       "      <th>Partner</th>\n",
       "      <th>Dependents</th>\n",
       "      <th>Tenure Months</th>\n",
       "      <th>Phone Service</th>\n",
       "      <th>Multiple Lines</th>\n",
       "      <th>...</th>\n",
       "      <th>Device Protection</th>\n",
       "      <th>Tech Support</th>\n",
       "      <th>Streaming TV</th>\n",
       "      <th>Streaming Movies</th>\n",
       "      <th>Contract</th>\n",
       "      <th>Paperless Billing</th>\n",
       "      <th>Payment Method</th>\n",
       "      <th>Monthly Charges</th>\n",
       "      <th>Total Charges</th>\n",
       "      <th>Churn Value</th>\n",
       "    </tr>\n",
       "  </thead>\n",
       "  <tbody>\n",
       "    <tr>\n",
       "      <th>0</th>\n",
       "      <td>90003</td>\n",
       "      <td>33.964131</td>\n",
       "      <td>-118.272783</td>\n",
       "      <td>Male</td>\n",
       "      <td>No</td>\n",
       "      <td>No</td>\n",
       "      <td>No</td>\n",
       "      <td>2</td>\n",
       "      <td>Yes</td>\n",
       "      <td>No</td>\n",
       "      <td>...</td>\n",
       "      <td>No</td>\n",
       "      <td>No</td>\n",
       "      <td>No</td>\n",
       "      <td>No</td>\n",
       "      <td>Month-to-month</td>\n",
       "      <td>Yes</td>\n",
       "      <td>Mailed check</td>\n",
       "      <td>53.85</td>\n",
       "      <td>108.15</td>\n",
       "      <td>1</td>\n",
       "    </tr>\n",
       "    <tr>\n",
       "      <th>1</th>\n",
       "      <td>90005</td>\n",
       "      <td>34.059281</td>\n",
       "      <td>-118.307420</td>\n",
       "      <td>Female</td>\n",
       "      <td>No</td>\n",
       "      <td>No</td>\n",
       "      <td>Yes</td>\n",
       "      <td>2</td>\n",
       "      <td>Yes</td>\n",
       "      <td>No</td>\n",
       "      <td>...</td>\n",
       "      <td>No</td>\n",
       "      <td>No</td>\n",
       "      <td>No</td>\n",
       "      <td>No</td>\n",
       "      <td>Month-to-month</td>\n",
       "      <td>Yes</td>\n",
       "      <td>Electronic check</td>\n",
       "      <td>70.70</td>\n",
       "      <td>151.65</td>\n",
       "      <td>1</td>\n",
       "    </tr>\n",
       "    <tr>\n",
       "      <th>2</th>\n",
       "      <td>90006</td>\n",
       "      <td>34.048013</td>\n",
       "      <td>-118.293953</td>\n",
       "      <td>Female</td>\n",
       "      <td>No</td>\n",
       "      <td>No</td>\n",
       "      <td>Yes</td>\n",
       "      <td>8</td>\n",
       "      <td>Yes</td>\n",
       "      <td>Yes</td>\n",
       "      <td>...</td>\n",
       "      <td>Yes</td>\n",
       "      <td>No</td>\n",
       "      <td>Yes</td>\n",
       "      <td>Yes</td>\n",
       "      <td>Month-to-month</td>\n",
       "      <td>Yes</td>\n",
       "      <td>Electronic check</td>\n",
       "      <td>99.65</td>\n",
       "      <td>820.5</td>\n",
       "      <td>1</td>\n",
       "    </tr>\n",
       "    <tr>\n",
       "      <th>3</th>\n",
       "      <td>90010</td>\n",
       "      <td>34.062125</td>\n",
       "      <td>-118.315709</td>\n",
       "      <td>Female</td>\n",
       "      <td>No</td>\n",
       "      <td>Yes</td>\n",
       "      <td>Yes</td>\n",
       "      <td>28</td>\n",
       "      <td>Yes</td>\n",
       "      <td>Yes</td>\n",
       "      <td>...</td>\n",
       "      <td>Yes</td>\n",
       "      <td>Yes</td>\n",
       "      <td>Yes</td>\n",
       "      <td>Yes</td>\n",
       "      <td>Month-to-month</td>\n",
       "      <td>Yes</td>\n",
       "      <td>Electronic check</td>\n",
       "      <td>104.80</td>\n",
       "      <td>3046.05</td>\n",
       "      <td>1</td>\n",
       "    </tr>\n",
       "    <tr>\n",
       "      <th>4</th>\n",
       "      <td>90015</td>\n",
       "      <td>34.039224</td>\n",
       "      <td>-118.266293</td>\n",
       "      <td>Male</td>\n",
       "      <td>No</td>\n",
       "      <td>No</td>\n",
       "      <td>Yes</td>\n",
       "      <td>49</td>\n",
       "      <td>Yes</td>\n",
       "      <td>Yes</td>\n",
       "      <td>...</td>\n",
       "      <td>Yes</td>\n",
       "      <td>No</td>\n",
       "      <td>Yes</td>\n",
       "      <td>Yes</td>\n",
       "      <td>Month-to-month</td>\n",
       "      <td>Yes</td>\n",
       "      <td>Bank transfer (automatic)</td>\n",
       "      <td>103.70</td>\n",
       "      <td>5036.3</td>\n",
       "      <td>1</td>\n",
       "    </tr>\n",
       "  </tbody>\n",
       "</table>\n",
       "<p>5 rows × 23 columns</p>\n",
       "</div>"
      ],
      "text/plain": [
       "   Zip Code   Latitude   Longitude  Gender Senior Citizen Partner Dependents  \\\n",
       "0     90003  33.964131 -118.272783    Male             No      No         No   \n",
       "1     90005  34.059281 -118.307420  Female             No      No        Yes   \n",
       "2     90006  34.048013 -118.293953  Female             No      No        Yes   \n",
       "3     90010  34.062125 -118.315709  Female             No     Yes        Yes   \n",
       "4     90015  34.039224 -118.266293    Male             No      No        Yes   \n",
       "\n",
       "   Tenure Months Phone Service Multiple Lines  ... Device Protection  \\\n",
       "0              2           Yes             No  ...                No   \n",
       "1              2           Yes             No  ...                No   \n",
       "2              8           Yes            Yes  ...               Yes   \n",
       "3             28           Yes            Yes  ...               Yes   \n",
       "4             49           Yes            Yes  ...               Yes   \n",
       "\n",
       "  Tech Support Streaming TV Streaming Movies        Contract  \\\n",
       "0           No           No               No  Month-to-month   \n",
       "1           No           No               No  Month-to-month   \n",
       "2           No          Yes              Yes  Month-to-month   \n",
       "3          Yes          Yes              Yes  Month-to-month   \n",
       "4           No          Yes              Yes  Month-to-month   \n",
       "\n",
       "  Paperless Billing             Payment Method Monthly Charges Total Charges  \\\n",
       "0               Yes               Mailed check           53.85        108.15   \n",
       "1               Yes           Electronic check           70.70        151.65   \n",
       "2               Yes           Electronic check           99.65         820.5   \n",
       "3               Yes           Electronic check          104.80       3046.05   \n",
       "4               Yes  Bank transfer (automatic)          103.70        5036.3   \n",
       "\n",
       "  Churn Value  \n",
       "0           1  \n",
       "1           1  \n",
       "2           1  \n",
       "3           1  \n",
       "4           1  \n",
       "\n",
       "[5 rows x 23 columns]"
      ]
     },
     "execution_count": 15,
     "metadata": {},
     "output_type": "execute_result"
    }
   ],
   "source": [
    "df.head(5)"
   ]
  },
  {
   "cell_type": "code",
   "execution_count": 21,
   "id": "c87744e1",
   "metadata": {},
   "outputs": [
    {
     "data": {
      "text/plain": [
       "Index(['Zip Code', 'Latitude', 'Longitude', 'Gender', 'Senior Citizen',\n",
       "       'Partner', 'Dependents', 'Tenure Months', 'Phone Service',\n",
       "       'Multiple Lines', 'Internet Service', 'Online Security',\n",
       "       'Online Backup', 'Device Protection', 'Tech Support', 'Streaming TV',\n",
       "       'Streaming Movies', 'Contract', 'Paperless Billing', 'Payment Method',\n",
       "       'Monthly Charges', 'Total Charges', 'Churn Value'],\n",
       "      dtype='object')"
      ]
     },
     "execution_count": 21,
     "metadata": {},
     "output_type": "execute_result"
    }
   ],
   "source": [
    "#It was observed that some columns have whitespaces\n",
    "df.columns"
   ]
  },
  {
   "cell_type": "code",
   "execution_count": 22,
   "id": "33309009",
   "metadata": {},
   "outputs": [],
   "source": [
    "#remove whitespaces from columns\n",
    "df.columns = df.columns.str.replace(' ', '_')"
   ]
  },
  {
   "cell_type": "markdown",
   "id": "9114d828",
   "metadata": {},
   "source": [
    "#### Observe that the Total_Charges column have an innapropriate datatype (object). This typically happens when a supposedly numeric column has some non numeric values. Trying to convert the Total_Charges to numeric column usins df['Total_Charges'] = pd.to_numeric(df['Total_Charges']) threw an error saying \"Unable to parse string at position 2234\", hence I checked the value at row 2234"
   ]
  },
  {
   "cell_type": "code",
   "execution_count": 23,
   "id": "4ea94b6f",
   "metadata": {},
   "outputs": [
    {
     "data": {
      "text/plain": [
       "2233    6201.95\n",
       "2234           \n",
       "2235    6597.25\n",
       "Name: Total_Charges, dtype: object"
      ]
     },
     "execution_count": 23,
     "metadata": {},
     "output_type": "execute_result"
    }
   ],
   "source": [
    "#empty space obserce row 2234\n",
    "df['Total_Charges'].iloc[2233:2236]"
   ]
  },
  {
   "cell_type": "code",
   "execution_count": 30,
   "id": "3d531b6a",
   "metadata": {},
   "outputs": [
    {
     "data": {
      "text/plain": [
       "11"
      ]
     },
     "execution_count": 30,
     "metadata": {},
     "output_type": "execute_result"
    }
   ],
   "source": [
    "#there are 11 missing vlaues (empty spaces) in the Total_Charges column\n",
    "len(df.loc[df['Total_Charges']==\" \"]['Total_Charges'])"
   ]
  },
  {
   "cell_type": "code",
   "execution_count": 31,
   "id": "3d8b6d8a",
   "metadata": {},
   "outputs": [
    {
     "data": {
      "text/html": [
       "<div>\n",
       "<style scoped>\n",
       "    .dataframe tbody tr th:only-of-type {\n",
       "        vertical-align: middle;\n",
       "    }\n",
       "\n",
       "    .dataframe tbody tr th {\n",
       "        vertical-align: top;\n",
       "    }\n",
       "\n",
       "    .dataframe thead th {\n",
       "        text-align: right;\n",
       "    }\n",
       "</style>\n",
       "<table border=\"1\" class=\"dataframe\">\n",
       "  <thead>\n",
       "    <tr style=\"text-align: right;\">\n",
       "      <th></th>\n",
       "      <th>Zip_Code</th>\n",
       "      <th>Latitude</th>\n",
       "      <th>Longitude</th>\n",
       "      <th>Gender</th>\n",
       "      <th>Senior_Citizen</th>\n",
       "      <th>Partner</th>\n",
       "      <th>Dependents</th>\n",
       "      <th>Tenure_Months</th>\n",
       "      <th>Phone_Service</th>\n",
       "      <th>Multiple_Lines</th>\n",
       "      <th>...</th>\n",
       "      <th>Device_Protection</th>\n",
       "      <th>Tech_Support</th>\n",
       "      <th>Streaming_TV</th>\n",
       "      <th>Streaming_Movies</th>\n",
       "      <th>Contract</th>\n",
       "      <th>Paperless_Billing</th>\n",
       "      <th>Payment_Method</th>\n",
       "      <th>Monthly_Charges</th>\n",
       "      <th>Total_Charges</th>\n",
       "      <th>Churn_Value</th>\n",
       "    </tr>\n",
       "  </thead>\n",
       "  <tbody>\n",
       "    <tr>\n",
       "      <th>2234</th>\n",
       "      <td>92408</td>\n",
       "      <td>34.084909</td>\n",
       "      <td>-117.258107</td>\n",
       "      <td>Female</td>\n",
       "      <td>No</td>\n",
       "      <td>Yes</td>\n",
       "      <td>No</td>\n",
       "      <td>0</td>\n",
       "      <td>No</td>\n",
       "      <td>No phone service</td>\n",
       "      <td>...</td>\n",
       "      <td>Yes</td>\n",
       "      <td>Yes</td>\n",
       "      <td>Yes</td>\n",
       "      <td>No</td>\n",
       "      <td>Two year</td>\n",
       "      <td>Yes</td>\n",
       "      <td>Bank transfer (automatic)</td>\n",
       "      <td>52.55</td>\n",
       "      <td></td>\n",
       "      <td>0</td>\n",
       "    </tr>\n",
       "    <tr>\n",
       "      <th>2438</th>\n",
       "      <td>93526</td>\n",
       "      <td>36.869584</td>\n",
       "      <td>-118.189241</td>\n",
       "      <td>Male</td>\n",
       "      <td>No</td>\n",
       "      <td>No</td>\n",
       "      <td>No</td>\n",
       "      <td>0</td>\n",
       "      <td>Yes</td>\n",
       "      <td>No</td>\n",
       "      <td>...</td>\n",
       "      <td>No internet service</td>\n",
       "      <td>No internet service</td>\n",
       "      <td>No internet service</td>\n",
       "      <td>No internet service</td>\n",
       "      <td>Two year</td>\n",
       "      <td>No</td>\n",
       "      <td>Mailed check</td>\n",
       "      <td>20.25</td>\n",
       "      <td></td>\n",
       "      <td>0</td>\n",
       "    </tr>\n",
       "    <tr>\n",
       "      <th>2568</th>\n",
       "      <td>94401</td>\n",
       "      <td>37.590421</td>\n",
       "      <td>-122.306467</td>\n",
       "      <td>Female</td>\n",
       "      <td>No</td>\n",
       "      <td>Yes</td>\n",
       "      <td>No</td>\n",
       "      <td>0</td>\n",
       "      <td>Yes</td>\n",
       "      <td>No</td>\n",
       "      <td>...</td>\n",
       "      <td>Yes</td>\n",
       "      <td>No</td>\n",
       "      <td>Yes</td>\n",
       "      <td>Yes</td>\n",
       "      <td>Two year</td>\n",
       "      <td>No</td>\n",
       "      <td>Mailed check</td>\n",
       "      <td>80.85</td>\n",
       "      <td></td>\n",
       "      <td>0</td>\n",
       "    </tr>\n",
       "    <tr>\n",
       "      <th>2667</th>\n",
       "      <td>95014</td>\n",
       "      <td>37.306612</td>\n",
       "      <td>-122.080621</td>\n",
       "      <td>Male</td>\n",
       "      <td>No</td>\n",
       "      <td>Yes</td>\n",
       "      <td>Yes</td>\n",
       "      <td>0</td>\n",
       "      <td>Yes</td>\n",
       "      <td>Yes</td>\n",
       "      <td>...</td>\n",
       "      <td>No internet service</td>\n",
       "      <td>No internet service</td>\n",
       "      <td>No internet service</td>\n",
       "      <td>No internet service</td>\n",
       "      <td>Two year</td>\n",
       "      <td>No</td>\n",
       "      <td>Mailed check</td>\n",
       "      <td>25.75</td>\n",
       "      <td></td>\n",
       "      <td>0</td>\n",
       "    </tr>\n",
       "    <tr>\n",
       "      <th>2856</th>\n",
       "      <td>95569</td>\n",
       "      <td>40.363446</td>\n",
       "      <td>-123.835041</td>\n",
       "      <td>Female</td>\n",
       "      <td>No</td>\n",
       "      <td>Yes</td>\n",
       "      <td>No</td>\n",
       "      <td>0</td>\n",
       "      <td>No</td>\n",
       "      <td>No phone service</td>\n",
       "      <td>...</td>\n",
       "      <td>Yes</td>\n",
       "      <td>Yes</td>\n",
       "      <td>Yes</td>\n",
       "      <td>No</td>\n",
       "      <td>Two year</td>\n",
       "      <td>No</td>\n",
       "      <td>Credit card (automatic)</td>\n",
       "      <td>56.05</td>\n",
       "      <td></td>\n",
       "      <td>0</td>\n",
       "    </tr>\n",
       "    <tr>\n",
       "      <th>4331</th>\n",
       "      <td>90029</td>\n",
       "      <td>34.089953</td>\n",
       "      <td>-118.294824</td>\n",
       "      <td>Male</td>\n",
       "      <td>No</td>\n",
       "      <td>Yes</td>\n",
       "      <td>Yes</td>\n",
       "      <td>0</td>\n",
       "      <td>Yes</td>\n",
       "      <td>No</td>\n",
       "      <td>...</td>\n",
       "      <td>No internet service</td>\n",
       "      <td>No internet service</td>\n",
       "      <td>No internet service</td>\n",
       "      <td>No internet service</td>\n",
       "      <td>Two year</td>\n",
       "      <td>No</td>\n",
       "      <td>Mailed check</td>\n",
       "      <td>19.85</td>\n",
       "      <td></td>\n",
       "      <td>0</td>\n",
       "    </tr>\n",
       "    <tr>\n",
       "      <th>4687</th>\n",
       "      <td>92585</td>\n",
       "      <td>33.739412</td>\n",
       "      <td>-117.173334</td>\n",
       "      <td>Male</td>\n",
       "      <td>No</td>\n",
       "      <td>Yes</td>\n",
       "      <td>Yes</td>\n",
       "      <td>0</td>\n",
       "      <td>Yes</td>\n",
       "      <td>Yes</td>\n",
       "      <td>...</td>\n",
       "      <td>No internet service</td>\n",
       "      <td>No internet service</td>\n",
       "      <td>No internet service</td>\n",
       "      <td>No internet service</td>\n",
       "      <td>Two year</td>\n",
       "      <td>No</td>\n",
       "      <td>Mailed check</td>\n",
       "      <td>25.35</td>\n",
       "      <td></td>\n",
       "      <td>0</td>\n",
       "    </tr>\n",
       "    <tr>\n",
       "      <th>5104</th>\n",
       "      <td>95005</td>\n",
       "      <td>37.078873</td>\n",
       "      <td>-122.090386</td>\n",
       "      <td>Female</td>\n",
       "      <td>No</td>\n",
       "      <td>Yes</td>\n",
       "      <td>Yes</td>\n",
       "      <td>0</td>\n",
       "      <td>Yes</td>\n",
       "      <td>No</td>\n",
       "      <td>...</td>\n",
       "      <td>No internet service</td>\n",
       "      <td>No internet service</td>\n",
       "      <td>No internet service</td>\n",
       "      <td>No internet service</td>\n",
       "      <td>Two year</td>\n",
       "      <td>No</td>\n",
       "      <td>Mailed check</td>\n",
       "      <td>20.00</td>\n",
       "      <td></td>\n",
       "      <td>0</td>\n",
       "    </tr>\n",
       "    <tr>\n",
       "      <th>5719</th>\n",
       "      <td>91750</td>\n",
       "      <td>34.144703</td>\n",
       "      <td>-117.770299</td>\n",
       "      <td>Male</td>\n",
       "      <td>No</td>\n",
       "      <td>Yes</td>\n",
       "      <td>Yes</td>\n",
       "      <td>0</td>\n",
       "      <td>Yes</td>\n",
       "      <td>No</td>\n",
       "      <td>...</td>\n",
       "      <td>No internet service</td>\n",
       "      <td>No internet service</td>\n",
       "      <td>No internet service</td>\n",
       "      <td>No internet service</td>\n",
       "      <td>One year</td>\n",
       "      <td>Yes</td>\n",
       "      <td>Mailed check</td>\n",
       "      <td>19.70</td>\n",
       "      <td></td>\n",
       "      <td>0</td>\n",
       "    </tr>\n",
       "    <tr>\n",
       "      <th>6772</th>\n",
       "      <td>90201</td>\n",
       "      <td>33.970343</td>\n",
       "      <td>-118.171368</td>\n",
       "      <td>Female</td>\n",
       "      <td>No</td>\n",
       "      <td>Yes</td>\n",
       "      <td>Yes</td>\n",
       "      <td>0</td>\n",
       "      <td>Yes</td>\n",
       "      <td>Yes</td>\n",
       "      <td>...</td>\n",
       "      <td>Yes</td>\n",
       "      <td>Yes</td>\n",
       "      <td>Yes</td>\n",
       "      <td>No</td>\n",
       "      <td>Two year</td>\n",
       "      <td>No</td>\n",
       "      <td>Mailed check</td>\n",
       "      <td>73.35</td>\n",
       "      <td></td>\n",
       "      <td>0</td>\n",
       "    </tr>\n",
       "    <tr>\n",
       "      <th>6840</th>\n",
       "      <td>90744</td>\n",
       "      <td>33.782068</td>\n",
       "      <td>-118.262263</td>\n",
       "      <td>Male</td>\n",
       "      <td>No</td>\n",
       "      <td>No</td>\n",
       "      <td>Yes</td>\n",
       "      <td>0</td>\n",
       "      <td>Yes</td>\n",
       "      <td>Yes</td>\n",
       "      <td>...</td>\n",
       "      <td>No</td>\n",
       "      <td>Yes</td>\n",
       "      <td>No</td>\n",
       "      <td>No</td>\n",
       "      <td>Two year</td>\n",
       "      <td>Yes</td>\n",
       "      <td>Bank transfer (automatic)</td>\n",
       "      <td>61.90</td>\n",
       "      <td></td>\n",
       "      <td>0</td>\n",
       "    </tr>\n",
       "  </tbody>\n",
       "</table>\n",
       "<p>11 rows × 23 columns</p>\n",
       "</div>"
      ],
      "text/plain": [
       "      Zip_Code   Latitude   Longitude  Gender Senior_Citizen Partner  \\\n",
       "2234     92408  34.084909 -117.258107  Female             No     Yes   \n",
       "2438     93526  36.869584 -118.189241    Male             No      No   \n",
       "2568     94401  37.590421 -122.306467  Female             No     Yes   \n",
       "2667     95014  37.306612 -122.080621    Male             No     Yes   \n",
       "2856     95569  40.363446 -123.835041  Female             No     Yes   \n",
       "4331     90029  34.089953 -118.294824    Male             No     Yes   \n",
       "4687     92585  33.739412 -117.173334    Male             No     Yes   \n",
       "5104     95005  37.078873 -122.090386  Female             No     Yes   \n",
       "5719     91750  34.144703 -117.770299    Male             No     Yes   \n",
       "6772     90201  33.970343 -118.171368  Female             No     Yes   \n",
       "6840     90744  33.782068 -118.262263    Male             No      No   \n",
       "\n",
       "     Dependents  Tenure_Months Phone_Service    Multiple_Lines  ...  \\\n",
       "2234         No              0            No  No phone service  ...   \n",
       "2438         No              0           Yes                No  ...   \n",
       "2568         No              0           Yes                No  ...   \n",
       "2667        Yes              0           Yes               Yes  ...   \n",
       "2856         No              0            No  No phone service  ...   \n",
       "4331        Yes              0           Yes                No  ...   \n",
       "4687        Yes              0           Yes               Yes  ...   \n",
       "5104        Yes              0           Yes                No  ...   \n",
       "5719        Yes              0           Yes                No  ...   \n",
       "6772        Yes              0           Yes               Yes  ...   \n",
       "6840        Yes              0           Yes               Yes  ...   \n",
       "\n",
       "        Device_Protection         Tech_Support         Streaming_TV  \\\n",
       "2234                  Yes                  Yes                  Yes   \n",
       "2438  No internet service  No internet service  No internet service   \n",
       "2568                  Yes                   No                  Yes   \n",
       "2667  No internet service  No internet service  No internet service   \n",
       "2856                  Yes                  Yes                  Yes   \n",
       "4331  No internet service  No internet service  No internet service   \n",
       "4687  No internet service  No internet service  No internet service   \n",
       "5104  No internet service  No internet service  No internet service   \n",
       "5719  No internet service  No internet service  No internet service   \n",
       "6772                  Yes                  Yes                  Yes   \n",
       "6840                   No                  Yes                   No   \n",
       "\n",
       "         Streaming_Movies  Contract Paperless_Billing  \\\n",
       "2234                   No  Two year               Yes   \n",
       "2438  No internet service  Two year                No   \n",
       "2568                  Yes  Two year                No   \n",
       "2667  No internet service  Two year                No   \n",
       "2856                   No  Two year                No   \n",
       "4331  No internet service  Two year                No   \n",
       "4687  No internet service  Two year                No   \n",
       "5104  No internet service  Two year                No   \n",
       "5719  No internet service  One year               Yes   \n",
       "6772                   No  Two year                No   \n",
       "6840                   No  Two year               Yes   \n",
       "\n",
       "                 Payment_Method Monthly_Charges Total_Charges Churn_Value  \n",
       "2234  Bank transfer (automatic)           52.55                         0  \n",
       "2438               Mailed check           20.25                         0  \n",
       "2568               Mailed check           80.85                         0  \n",
       "2667               Mailed check           25.75                         0  \n",
       "2856    Credit card (automatic)           56.05                         0  \n",
       "4331               Mailed check           19.85                         0  \n",
       "4687               Mailed check           25.35                         0  \n",
       "5104               Mailed check           20.00                         0  \n",
       "5719               Mailed check           19.70                         0  \n",
       "6772               Mailed check           73.35                         0  \n",
       "6840  Bank transfer (automatic)           61.90                         0  \n",
       "\n",
       "[11 rows x 23 columns]"
      ]
     },
     "execution_count": 31,
     "metadata": {},
     "output_type": "execute_result"
    }
   ],
   "source": [
    "# visualize the empty values in the Total_Charges column. Observe the Total_Charges column\n",
    "df.loc[df['Total_Charges']==\" \"]"
   ]
  },
  {
   "cell_type": "markdown",
   "id": "ae006285",
   "metadata": {},
   "source": [
    "### Most likely, the customers (rows) involved are newly subscribed customers who have not been charged. Also, observe that their Churn_Value are all zero meaning that the 11 customers had not left. I shall resolve this by setting the emptytotal_Charges to zero"
   ]
  },
  {
   "cell_type": "code",
   "execution_count": 32,
   "id": "aff561ed",
   "metadata": {},
   "outputs": [],
   "source": [
    "#set all empty spaces to zero\n",
    "df.loc[(df['Total_Charges']==\" \"),'Total_Charges']= 0"
   ]
  },
  {
   "cell_type": "code",
   "execution_count": 33,
   "id": "16513a8b",
   "metadata": {},
   "outputs": [],
   "source": [
    "#change column data type to numeric (float)\n",
    "df['Total_Charges'] = pd.to_numeric(df['Total_Charges'])"
   ]
  },
  {
   "cell_type": "code",
   "execution_count": 34,
   "id": "66940acf",
   "metadata": {},
   "outputs": [
    {
     "data": {
      "text/plain": [
       "dtype('float64')"
      ]
     },
     "execution_count": 34,
     "metadata": {},
     "output_type": "execute_result"
    }
   ],
   "source": [
    "df['Total_Charges'].dtypes"
   ]
  },
  {
   "cell_type": "code",
   "execution_count": 35,
   "id": "edd4033f",
   "metadata": {},
   "outputs": [],
   "source": [
    "#convert all empty spaces in non numeric column to _\n",
    "df.replace(' ', '_', regex=True, inplace=True)"
   ]
  },
  {
   "cell_type": "markdown",
   "id": "0926c939",
   "metadata": {},
   "source": [
    "# EXPLORATORY DATA ANALYSIS"
   ]
  },
  {
   "cell_type": "code",
   "execution_count": 91,
   "id": "2cf757fa",
   "metadata": {},
   "outputs": [
    {
     "data": {
      "text/plain": [
       "<AxesSubplot: xlabel='Churn_Value', ylabel='count'>"
      ]
     },
     "execution_count": 91,
     "metadata": {},
     "output_type": "execute_result"
    },
    {
     "data": {
      "image/png": "[encoded data removed]",
      "text/plain": [
       "<Figure size 432x288 with 1 Axes>"
      ]
     },
     "metadata": {
      "needs_background": "light"
     },
     "output_type": "display_data"
    }
   ],
   "source": [
    "#dataset slightly imbalanced\n",
    "sns.countplot(x = 'Churn_Value', data = df)"
   ]
  },
  {
   "cell_type": "code",
   "execution_count": 92,
   "id": "e18435f9",
   "metadata": {},
   "outputs": [
    {
     "data": {
      "text/plain": [
       "Tenure_Months     -0.352229\n",
       "Total_Charges     -0.198324\n",
       "Latitude          -0.003384\n",
       "Zip_Code           0.003346\n",
       "Longitude          0.004594\n",
       "Monthly_Charges    0.193356\n",
       "Churn_Value        1.000000\n",
       "Name: Churn_Value, dtype: float64"
      ]
     },
     "execution_count": 92,
     "metadata": {},
     "output_type": "execute_result"
    }
   ],
   "source": [
    "#correlation of each of the variables with fraud\n",
    "df.corr()['Churn_Value'].sort_values()"
   ]
  },
  {
   "cell_type": "markdown",
   "id": "6cf00113",
   "metadata": {},
   "source": [
    "Exploraing the distribution of the variables with significant correlation with the target variable"
   ]
  },
  {
   "cell_type": "code",
   "execution_count": 93,
   "id": "3a95ebf9",
   "metadata": {},
   "outputs": [
    {
     "data": {
      "text/plain": [
       "<AxesSubplot: xlabel='Churn_Value', ylabel='Tenure_Months'>"
      ]
     },
     "execution_count": 93,
     "metadata": {},
     "output_type": "execute_result"
    },
    {
     "data": {
      "image/png": "[encoded data removed]",
      "text/plain": [
       "<Figure size 432x288 with 1 Axes>"
      ]
     },
     "metadata": {
      "needs_background": "light"
     },
     "output_type": "display_data"
    }
   ],
   "source": [
    "sns.boxplot(x='Churn_Value',y='Tenure_Months',data=df)"
   ]
  },
  {
   "cell_type": "code",
   "execution_count": 94,
   "id": "3e0faa9b",
   "metadata": {},
   "outputs": [
    {
     "data": {
      "text/plain": [
       "<AxesSubplot: xlabel='Churn_Value', ylabel='Total_Charges'>"
      ]
     },
     "execution_count": 94,
     "metadata": {},
     "output_type": "execute_result"
    },
    {
     "data": {
      "image/png": "[encoded data removed]",
      "text/plain": [
       "<Figure size 432x288 with 1 Axes>"
      ]
     },
     "metadata": {
      "needs_background": "light"
     },
     "output_type": "display_data"
    }
   ],
   "source": [
    "sns.boxplot(x='Churn_Value',y='Total_Charges',data=df)"
   ]
  },
  {
   "cell_type": "code",
   "execution_count": 95,
   "id": "e1168dd4",
   "metadata": {},
   "outputs": [
    {
     "data": {
      "text/plain": [
       "<AxesSubplot: xlabel='Churn_Value', ylabel='Monthly_Charges'>"
      ]
     },
     "execution_count": 95,
     "metadata": {},
     "output_type": "execute_result"
    },
    {
     "data": {
      "image/png": "[encoded data removed]",
      "text/plain": [
       "<Figure size 432x288 with 1 Axes>"
      ]
     },
     "metadata": {
      "needs_background": "light"
     },
     "output_type": "display_data"
    }
   ],
   "source": [
    "sns.boxplot(x='Churn_Value',y='Monthly_Charges',data=df)"
   ]
  },
  {
   "cell_type": "markdown",
   "id": "07ad5274",
   "metadata": {},
   "source": [
    "# DATA PREPROCESSING"
   ]
  },
  {
   "cell_type": "code",
   "execution_count": 46,
   "id": "209fb91c",
   "metadata": {},
   "outputs": [],
   "source": [
    "X = df.drop('Churn_Value',axis=1)\n",
    "y = df['Churn_Value']"
   ]
  },
  {
   "cell_type": "code",
   "execution_count": 47,
   "id": "e11d317e",
   "metadata": {},
   "outputs": [
    {
     "data": {
      "text/plain": [
       "Zip_Code               int64\n",
       "Latitude             float64\n",
       "Longitude            float64\n",
       "Gender                object\n",
       "Senior_Citizen        object\n",
       "Partner               object\n",
       "Dependents            object\n",
       "Tenure_Months          int64\n",
       "Phone_Service         object\n",
       "Multiple_Lines        object\n",
       "Internet_Service      object\n",
       "Online_Security       object\n",
       "Online_Backup         object\n",
       "Device_Protection     object\n",
       "Tech_Support          object\n",
       "Streaming_TV          object\n",
       "Streaming_Movies      object\n",
       "Contract              object\n",
       "Paperless_Billing     object\n",
       "Payment_Method        object\n",
       "Monthly_Charges      float64\n",
       "Total_Charges        float64\n",
       "dtype: object"
      ]
     },
     "execution_count": 47,
     "metadata": {},
     "output_type": "execute_result"
    }
   ],
   "source": [
    "#oberser oject, integer and float datatype\n",
    "X.dtypes"
   ]
  },
  {
   "cell_type": "code",
   "execution_count": 48,
   "id": "75b12914",
   "metadata": {},
   "outputs": [
    {
     "data": {
      "text/html": [
       "<div>\n",
       "<style scoped>\n",
       "    .dataframe tbody tr th:only-of-type {\n",
       "        vertical-align: middle;\n",
       "    }\n",
       "\n",
       "    .dataframe tbody tr th {\n",
       "        vertical-align: top;\n",
       "    }\n",
       "\n",
       "    .dataframe thead th {\n",
       "        text-align: right;\n",
       "    }\n",
       "</style>\n",
       "<table border=\"1\" class=\"dataframe\">\n",
       "  <thead>\n",
       "    <tr style=\"text-align: right;\">\n",
       "      <th></th>\n",
       "      <th>Zip_Code</th>\n",
       "      <th>Latitude</th>\n",
       "      <th>Longitude</th>\n",
       "      <th>Tenure_Months</th>\n",
       "      <th>Monthly_Charges</th>\n",
       "      <th>Total_Charges</th>\n",
       "      <th>Gender_Male</th>\n",
       "      <th>Senior_Citizen_Yes</th>\n",
       "      <th>Partner_Yes</th>\n",
       "      <th>Dependents_Yes</th>\n",
       "      <th>...</th>\n",
       "      <th>Streaming_TV_No_internet_service</th>\n",
       "      <th>Streaming_TV_Yes</th>\n",
       "      <th>Streaming_Movies_No_internet_service</th>\n",
       "      <th>Streaming_Movies_Yes</th>\n",
       "      <th>Contract_One_year</th>\n",
       "      <th>Contract_Two_year</th>\n",
       "      <th>Paperless_Billing_Yes</th>\n",
       "      <th>Payment_Method_Credit_card_(automatic)</th>\n",
       "      <th>Payment_Method_Electronic_check</th>\n",
       "      <th>Payment_Method_Mailed_check</th>\n",
       "    </tr>\n",
       "  </thead>\n",
       "  <tbody>\n",
       "    <tr>\n",
       "      <th>0</th>\n",
       "      <td>90003</td>\n",
       "      <td>33.964131</td>\n",
       "      <td>-118.272783</td>\n",
       "      <td>2</td>\n",
       "      <td>53.85</td>\n",
       "      <td>108.15</td>\n",
       "      <td>1</td>\n",
       "      <td>0</td>\n",
       "      <td>0</td>\n",
       "      <td>0</td>\n",
       "      <td>...</td>\n",
       "      <td>0</td>\n",
       "      <td>0</td>\n",
       "      <td>0</td>\n",
       "      <td>0</td>\n",
       "      <td>0</td>\n",
       "      <td>0</td>\n",
       "      <td>1</td>\n",
       "      <td>0</td>\n",
       "      <td>0</td>\n",
       "      <td>1</td>\n",
       "    </tr>\n",
       "    <tr>\n",
       "      <th>1</th>\n",
       "      <td>90005</td>\n",
       "      <td>34.059281</td>\n",
       "      <td>-118.307420</td>\n",
       "      <td>2</td>\n",
       "      <td>70.70</td>\n",
       "      <td>151.65</td>\n",
       "      <td>0</td>\n",
       "      <td>0</td>\n",
       "      <td>0</td>\n",
       "      <td>1</td>\n",
       "      <td>...</td>\n",
       "      <td>0</td>\n",
       "      <td>0</td>\n",
       "      <td>0</td>\n",
       "      <td>0</td>\n",
       "      <td>0</td>\n",
       "      <td>0</td>\n",
       "      <td>1</td>\n",
       "      <td>0</td>\n",
       "      <td>1</td>\n",
       "      <td>0</td>\n",
       "    </tr>\n",
       "    <tr>\n",
       "      <th>2</th>\n",
       "      <td>90006</td>\n",
       "      <td>34.048013</td>\n",
       "      <td>-118.293953</td>\n",
       "      <td>8</td>\n",
       "      <td>99.65</td>\n",
       "      <td>820.50</td>\n",
       "      <td>0</td>\n",
       "      <td>0</td>\n",
       "      <td>0</td>\n",
       "      <td>1</td>\n",
       "      <td>...</td>\n",
       "      <td>0</td>\n",
       "      <td>1</td>\n",
       "      <td>0</td>\n",
       "      <td>1</td>\n",
       "      <td>0</td>\n",
       "      <td>0</td>\n",
       "      <td>1</td>\n",
       "      <td>0</td>\n",
       "      <td>1</td>\n",
       "      <td>0</td>\n",
       "    </tr>\n",
       "    <tr>\n",
       "      <th>3</th>\n",
       "      <td>90010</td>\n",
       "      <td>34.062125</td>\n",
       "      <td>-118.315709</td>\n",
       "      <td>28</td>\n",
       "      <td>104.80</td>\n",
       "      <td>3046.05</td>\n",
       "      <td>0</td>\n",
       "      <td>0</td>\n",
       "      <td>1</td>\n",
       "      <td>1</td>\n",
       "      <td>...</td>\n",
       "      <td>0</td>\n",
       "      <td>1</td>\n",
       "      <td>0</td>\n",
       "      <td>1</td>\n",
       "      <td>0</td>\n",
       "      <td>0</td>\n",
       "      <td>1</td>\n",
       "      <td>0</td>\n",
       "      <td>1</td>\n",
       "      <td>0</td>\n",
       "    </tr>\n",
       "    <tr>\n",
       "      <th>4</th>\n",
       "      <td>90015</td>\n",
       "      <td>34.039224</td>\n",
       "      <td>-118.266293</td>\n",
       "      <td>49</td>\n",
       "      <td>103.70</td>\n",
       "      <td>5036.30</td>\n",
       "      <td>1</td>\n",
       "      <td>0</td>\n",
       "      <td>0</td>\n",
       "      <td>1</td>\n",
       "      <td>...</td>\n",
       "      <td>0</td>\n",
       "      <td>1</td>\n",
       "      <td>0</td>\n",
       "      <td>1</td>\n",
       "      <td>0</td>\n",
       "      <td>0</td>\n",
       "      <td>1</td>\n",
       "      <td>0</td>\n",
       "      <td>0</td>\n",
       "      <td>0</td>\n",
       "    </tr>\n",
       "  </tbody>\n",
       "</table>\n",
       "<p>5 rows × 33 columns</p>\n",
       "</div>"
      ],
      "text/plain": [
       "   Zip_Code   Latitude   Longitude  Tenure_Months  Monthly_Charges  \\\n",
       "0     90003  33.964131 -118.272783              2            53.85   \n",
       "1     90005  34.059281 -118.307420              2            70.70   \n",
       "2     90006  34.048013 -118.293953              8            99.65   \n",
       "3     90010  34.062125 -118.315709             28           104.80   \n",
       "4     90015  34.039224 -118.266293             49           103.70   \n",
       "\n",
       "   Total_Charges  Gender_Male  Senior_Citizen_Yes  Partner_Yes  \\\n",
       "0         108.15            1                   0            0   \n",
       "1         151.65            0                   0            0   \n",
       "2         820.50            0                   0            0   \n",
       "3        3046.05            0                   0            1   \n",
       "4        5036.30            1                   0            0   \n",
       "\n",
       "   Dependents_Yes  ...  Streaming_TV_No_internet_service  Streaming_TV_Yes  \\\n",
       "0               0  ...                                 0                 0   \n",
       "1               1  ...                                 0                 0   \n",
       "2               1  ...                                 0                 1   \n",
       "3               1  ...                                 0                 1   \n",
       "4               1  ...                                 0                 1   \n",
       "\n",
       "   Streaming_Movies_No_internet_service  Streaming_Movies_Yes  \\\n",
       "0                                     0                     0   \n",
       "1                                     0                     0   \n",
       "2                                     0                     1   \n",
       "3                                     0                     1   \n",
       "4                                     0                     1   \n",
       "\n",
       "   Contract_One_year  Contract_Two_year  Paperless_Billing_Yes  \\\n",
       "0                  0                  0                      1   \n",
       "1                  0                  0                      1   \n",
       "2                  0                  0                      1   \n",
       "3                  0                  0                      1   \n",
       "4                  0                  0                      1   \n",
       "\n",
       "   Payment_Method_Credit_card_(automatic)  Payment_Method_Electronic_check  \\\n",
       "0                                       0                                0   \n",
       "1                                       0                                1   \n",
       "2                                       0                                1   \n",
       "3                                       0                                1   \n",
       "4                                       0                                0   \n",
       "\n",
       "   Payment_Method_Mailed_check  \n",
       "0                            1  \n",
       "1                            0  \n",
       "2                            0  \n",
       "3                            0  \n",
       "4                            0  \n",
       "\n",
       "[5 rows x 33 columns]"
      ]
     },
     "execution_count": 48,
     "metadata": {},
     "output_type": "execute_result"
    }
   ],
   "source": [
    "#convert categorical variables to dummy variables\n",
    "X = pd.get_dummies(X, columns = ['Gender',\n",
    "                                'Senior_Citizen',\n",
    "                                'Partner',\n",
    "                                'Dependents',\n",
    "                                'Phone_Service',\n",
    "                                'Multiple_Lines',\n",
    "                                'Internet_Service',\n",
    "                                'Online_Security',\n",
    "                                'Online_Backup',\n",
    "                                'Device_Protection',\n",
    "                                'Tech_Support',\n",
    "                                'Streaming_TV',\n",
    "                                'Streaming_Movies',\n",
    "                                'Contract',\n",
    "                                'Paperless_Billing',\n",
    "                                'Payment_Method'\n",
    "                                         \n",
    "    \n",
    "],drop_first=True)\n",
    "X.head()"
   ]
  },
  {
   "cell_type": "code",
   "execution_count": 49,
   "id": "a92f3c87",
   "metadata": {},
   "outputs": [
    {
     "data": {
      "text/plain": [
       "Index(['Zip_Code', 'Latitude', 'Longitude', 'Tenure_Months', 'Monthly_Charges',\n",
       "       'Total_Charges', 'Gender_Male', 'Senior_Citizen_Yes', 'Partner_Yes',\n",
       "       'Dependents_Yes', 'Phone_Service_Yes',\n",
       "       'Multiple_Lines_No_phone_service', 'Multiple_Lines_Yes',\n",
       "       'Internet_Service_Fiber_optic', 'Internet_Service_No',\n",
       "       'Online_Security_No_internet_service', 'Online_Security_Yes',\n",
       "       'Online_Backup_No_internet_service', 'Online_Backup_Yes',\n",
       "       'Device_Protection_No_internet_service', 'Device_Protection_Yes',\n",
       "       'Tech_Support_No_internet_service', 'Tech_Support_Yes',\n",
       "       'Streaming_TV_No_internet_service', 'Streaming_TV_Yes',\n",
       "       'Streaming_Movies_No_internet_service', 'Streaming_Movies_Yes',\n",
       "       'Contract_One_year', 'Contract_Two_year', 'Paperless_Billing_Yes',\n",
       "       'Payment_Method_Credit_card_(automatic)',\n",
       "       'Payment_Method_Electronic_check', 'Payment_Method_Mailed_check'],\n",
       "      dtype='object')"
      ]
     },
     "execution_count": 49,
     "metadata": {},
     "output_type": "execute_result"
    }
   ],
   "source": [
    "X.columns"
   ]
  },
  {
   "cell_type": "code",
   "execution_count": 51,
   "id": "4115d042",
   "metadata": {},
   "outputs": [],
   "source": [
    "X.columns = columns = ['Zip_Code', 'Latitude', 'Longitude', 'Tenure_Months', 'Monthly_Charges',\n",
    "       'Total_Charges', 'Gender_Male', 'Senior_Citizen_Yes', 'Partner_Yes',\n",
    "       'Dependents_Yes', 'Phone_Service_Yes',\n",
    "       'Multiple_Lines_No_phone_service', 'Multiple_Lines_Yes',\n",
    "       'Internet_Service_Fiber_optic', 'Internet_Service_No',\n",
    "       'Online_Security_No_internet_service', 'Online_Security_Yes',\n",
    "       'Online_Backup_No_internet_service', 'Online_Backup_Yes',\n",
    "       'Device_Protection_No_internet_service', 'Device_Protection_Yes',\n",
    "       'Tech_Support_No_internet_service', 'Tech_Support_Yes',\n",
    "       'Streaming_TV_No_internet_service', 'Streaming_TV_Yes',\n",
    "       'Streaming_Movies_No_internet_service', 'Streaming_Movies_Yes',\n",
    "       'Contract_One_year', 'Contract_Two_year', 'Paperless_Billing_Yes',\n",
    "       'Payment_Method_Credit_card_automatic',\n",
    "       'Payment_Method_Electronic_check', 'Payment_Method_Mailed_check']"
   ]
  },
  {
   "cell_type": "code",
   "execution_count": 52,
   "id": "a2f23b5e",
   "metadata": {},
   "outputs": [],
   "source": [
    "X_train, X_test, y_train, y_test = train_test_split(X, y, random_state=42, stratify=y)"
   ]
  },
  {
   "cell_type": "code",
   "execution_count": 53,
   "id": "4b05b915",
   "metadata": {},
   "outputs": [
    {
     "data": {
      "text/plain": [
       "0.2654297614539947"
      ]
     },
     "execution_count": 53,
     "metadata": {},
     "output_type": "execute_result"
    }
   ],
   "source": [
    "sum(y_train)/len(y_train)"
   ]
  },
  {
   "cell_type": "code",
   "execution_count": 54,
   "id": "f3f4f982",
   "metadata": {},
   "outputs": [
    {
     "data": {
      "text/plain": [
       "0.26519023282226006"
      ]
     },
     "execution_count": 54,
     "metadata": {},
     "output_type": "execute_result"
    }
   ],
   "source": [
    "sum(y_test)/len(y_test)"
   ]
  },
  {
   "cell_type": "markdown",
   "id": "450dc5d9",
   "metadata": {},
   "source": [
    "# MODEL TRAINING"
   ]
  },
  {
   "cell_type": "code",
   "execution_count": 57,
   "id": "2025dfd5",
   "metadata": {},
   "outputs": [
    {
     "name": "stdout",
     "output_type": "stream",
     "text": [
      "[0]\tvalidation_0-aucpr:0.63387\n",
      "[1]\tvalidation_0-aucpr:0.64205\n",
      "[2]\tvalidation_0-aucpr:0.64642\n",
      "[3]\tvalidation_0-aucpr:0.64800\n",
      "[4]\tvalidation_0-aucpr:0.64770\n",
      "[5]\tvalidation_0-aucpr:0.65611\n",
      "[6]\tvalidation_0-aucpr:0.65868\n",
      "[7]\tvalidation_0-aucpr:0.65631\n",
      "[8]\tvalidation_0-aucpr:0.65654\n",
      "[9]\tvalidation_0-aucpr:0.65949\n",
      "[10]\tvalidation_0-aucpr:0.65913\n",
      "[11]\tvalidation_0-aucpr:0.65915\n",
      "[12]\tvalidation_0-aucpr:0.66051\n",
      "[13]\tvalidation_0-aucpr:0.65935\n",
      "[14]\tvalidation_0-aucpr:0.65907\n",
      "[15]\tvalidation_0-aucpr:0.65575\n",
      "[16]\tvalidation_0-aucpr:0.65635\n",
      "[17]\tvalidation_0-aucpr:0.65697\n",
      "[18]\tvalidation_0-aucpr:0.65577\n",
      "[19]\tvalidation_0-aucpr:0.65248\n",
      "[20]\tvalidation_0-aucpr:0.65273\n",
      "[21]\tvalidation_0-aucpr:0.65311\n"
     ]
    },
    {
     "data": {
      "text/html": [
       "<style>#sk-container-id-2 {color: black;background-color: white;}#sk-container-id-2 pre{padding: 0;}#sk-container-id-2 div.sk-toggleable {background-color: white;}#sk-container-id-2 label.sk-toggleable__label {cursor: pointer;display: block;width: 100%;margin-bottom: 0;padding: 0.3em;box-sizing: border-box;text-align: center;}#sk-container-id-2 label.sk-toggleable__label-arrow:before {content: \"▸\";float: left;margin-right: 0.25em;color: #696969;}#sk-container-id-2 label.sk-toggleable__label-arrow:hover:before {color: black;}#sk-container-id-2 div.sk-estimator:hover label.sk-toggleable__label-arrow:before {color: black;}#sk-container-id-2 div.sk-toggleable__content {max-height: 0;max-width: 0;overflow: hidden;text-align: left;background-color: #f0f8ff;}#sk-container-id-2 div.sk-toggleable__content pre {margin: 0.2em;color: black;border-radius: 0.25em;background-color: #f0f8ff;}#sk-container-id-2 input.sk-toggleable__control:checked~div.sk-toggleable__content {max-height: 200px;max-width: 100%;overflow: auto;}#sk-container-id-2 input.sk-toggleable__control:checked~label.sk-toggleable__label-arrow:before {content: \"▾\";}#sk-container-id-2 div.sk-estimator input.sk-toggleable__control:checked~label.sk-toggleable__label {background-color: #d4ebff;}#sk-container-id-2 div.sk-label input.sk-toggleable__control:checked~label.sk-toggleable__label {background-color: #d4ebff;}#sk-container-id-2 input.sk-hidden--visually {border: 0;clip: rect(1px 1px 1px 1px);clip: rect(1px, 1px, 1px, 1px);height: 1px;margin: -1px;overflow: hidden;padding: 0;position: absolute;width: 1px;}#sk-container-id-2 div.sk-estimator {font-family: monospace;background-color: #f0f8ff;border: 1px dotted black;border-radius: 0.25em;box-sizing: border-box;margin-bottom: 0.5em;}#sk-container-id-2 div.sk-estimator:hover {background-color: #d4ebff;}#sk-container-id-2 div.sk-parallel-item::after {content: \"\";width: 100%;border-bottom: 1px solid gray;flex-grow: 1;}#sk-container-id-2 div.sk-label:hover label.sk-toggleable__label {background-color: #d4ebff;}#sk-container-id-2 div.sk-serial::before {content: \"\";position: absolute;border-left: 1px solid gray;box-sizing: border-box;top: 0;bottom: 0;left: 50%;z-index: 0;}#sk-container-id-2 div.sk-serial {display: flex;flex-direction: column;align-items: center;background-color: white;padding-right: 0.2em;padding-left: 0.2em;position: relative;}#sk-container-id-2 div.sk-item {position: relative;z-index: 1;}#sk-container-id-2 div.sk-parallel {display: flex;align-items: stretch;justify-content: center;background-color: white;position: relative;}#sk-container-id-2 div.sk-item::before, #sk-container-id-2 div.sk-parallel-item::before {content: \"\";position: absolute;border-left: 1px solid gray;box-sizing: border-box;top: 0;bottom: 0;left: 50%;z-index: -1;}#sk-container-id-2 div.sk-parallel-item {display: flex;flex-direction: column;z-index: 1;position: relative;background-color: white;}#sk-container-id-2 div.sk-parallel-item:first-child::after {align-self: flex-end;width: 50%;}#sk-container-id-2 div.sk-parallel-item:last-child::after {align-self: flex-start;width: 50%;}#sk-container-id-2 div.sk-parallel-item:only-child::after {width: 0;}#sk-container-id-2 div.sk-dashed-wrapped {border: 1px dashed gray;margin: 0 0.4em 0.5em 0.4em;box-sizing: border-box;padding-bottom: 0.4em;background-color: white;}#sk-container-id-2 div.sk-label label {font-family: monospace;font-weight: bold;display: inline-block;line-height: 1.2em;}#sk-container-id-2 div.sk-label-container {text-align: center;}#sk-container-id-2 div.sk-container {/* jupyter's `normalize.less` sets `[hidden] { display: none; }` but bootstrap.min.css set `[hidden] { display: none !important; }` so we also need the `!important` here to be able to override the default hidden behavior on the sphinx rendered scikit-learn.org. See: https://github.com/scikit-learn/scikit-learn/issues/21755 */display: inline-block !important;position: relative;}#sk-container-id-2 div.sk-text-repr-fallback {display: none;}</style><div id=\"sk-container-id-2\" class=\"sk-top-container\"><div class=\"sk-text-repr-fallback\"><pre>XGBClassifier(base_score=0.5, booster=&#x27;gbtree&#x27;, callbacks=None,\n",
       "              colsample_bylevel=1, colsample_bynode=1, colsample_bytree=1,\n",
       "              early_stopping_rounds=None, enable_categorical=False,\n",
       "              eval_metric=None, gamma=0, gpu_id=-1, grow_policy=&#x27;depthwise&#x27;,\n",
       "              importance_type=None, interaction_constraints=&#x27;&#x27;,\n",
       "              learning_rate=0.300000012, max_bin=256, max_cat_to_onehot=4,\n",
       "              max_delta_step=0, max_depth=6, max_leaves=0, min_child_weight=1,\n",
       "              missing=0, monotone_constraints=&#x27;()&#x27;, n_estimators=100, n_jobs=0,\n",
       "              num_parallel_tree=1, predictor=&#x27;auto&#x27;, random_state=42,\n",
       "              reg_alpha=0, reg_lambda=1, ...)</pre><b>In a Jupyter environment, please rerun this cell to show the HTML representation or trust the notebook. <br />On GitHub, the HTML representation is unable to render, please try loading this page with nbviewer.org.</b></div><div class=\"sk-container\" hidden><div class=\"sk-item\"><div class=\"sk-estimator sk-toggleable\"><input class=\"sk-toggleable__control sk-hidden--visually\" id=\"sk-estimator-id-2\" type=\"checkbox\" checked><label for=\"sk-estimator-id-2\" class=\"sk-toggleable__label sk-toggleable__label-arrow\">XGBClassifier</label><div class=\"sk-toggleable__content\"><pre>XGBClassifier(base_score=0.5, booster=&#x27;gbtree&#x27;, callbacks=None,\n",
       "              colsample_bylevel=1, colsample_bynode=1, colsample_bytree=1,\n",
       "              early_stopping_rounds=None, enable_categorical=False,\n",
       "              eval_metric=None, gamma=0, gpu_id=-1, grow_policy=&#x27;depthwise&#x27;,\n",
       "              importance_type=None, interaction_constraints=&#x27;&#x27;,\n",
       "              learning_rate=0.300000012, max_bin=256, max_cat_to_onehot=4,\n",
       "              max_delta_step=0, max_depth=6, max_leaves=0, min_child_weight=1,\n",
       "              missing=0, monotone_constraints=&#x27;()&#x27;, n_estimators=100, n_jobs=0,\n",
       "              num_parallel_tree=1, predictor=&#x27;auto&#x27;, random_state=42,\n",
       "              reg_alpha=0, reg_lambda=1, ...)</pre></div></div></div></div></div>"
      ],
      "text/plain": [
       "XGBClassifier(base_score=0.5, booster='gbtree', callbacks=None,\n",
       "              colsample_bylevel=1, colsample_bynode=1, colsample_bytree=1,\n",
       "              early_stopping_rounds=None, enable_categorical=False,\n",
       "              eval_metric=None, gamma=0, gpu_id=-1, grow_policy='depthwise',\n",
       "              importance_type=None, interaction_constraints='',\n",
       "              learning_rate=0.300000012, max_bin=256, max_cat_to_onehot=4,\n",
       "              max_delta_step=0, max_depth=6, max_leaves=0, min_child_weight=1,\n",
       "              missing=0, monotone_constraints='()', n_estimators=100, n_jobs=0,\n",
       "              num_parallel_tree=1, predictor='auto', random_state=42,\n",
       "              reg_alpha=0, reg_lambda=1, ...)"
      ]
     },
     "execution_count": 57,
     "metadata": {},
     "output_type": "execute_result"
    }
   ],
   "source": [
    "clf_xgb = xgb.XGBClassifier(objective='binary:logistic', use_label_encoder=False, missing=0, seed=42)\n",
    "clf_xgb.fit(X_train,\n",
    "            y_train,\n",
    "            verbose=True,\n",
    "            early_stopping_rounds=10,\n",
    "            eval_metric='aucpr',\n",
    "            eval_set=[(X_test,y_test)])"
   ]
  },
  {
   "cell_type": "code",
   "execution_count": 58,
   "id": "046b2de7",
   "metadata": {},
   "outputs": [
    {
     "name": "stderr",
     "output_type": "stream",
     "text": [
      "C:\\Users\\HP 1O3O G2\\anaconda3\\lib\\site-packages\\sklearn\\utils\\deprecation.py:87: FutureWarning: Function plot_confusion_matrix is deprecated; Function `plot_confusion_matrix` is deprecated in 1.0 and will be removed in 1.2. Use one of the class methods: ConfusionMatrixDisplay.from_predictions or ConfusionMatrixDisplay.from_estimator.\n",
      "  warnings.warn(msg, category=FutureWarning)\n"
     ]
    },
    {
     "data": {
      "text/plain": [
       "<sklearn.metrics._plot.confusion_matrix.ConfusionMatrixDisplay at 0x29e7f2b7520>"
      ]
     },
     "execution_count": 58,
     "metadata": {},
     "output_type": "execute_result"
    },
    {
     "data": {
      "image/png": "[encoded data removed]",
      "text/plain": [
       "<Figure size 432x288 with 2 Axes>"
      ]
     },
     "metadata": {
      "needs_background": "light"
     },
     "output_type": "display_data"
    }
   ],
   "source": [
    "plot_confusion_matrix(clf_xgb,\n",
    "                     X_test,\n",
    "                     y_test,\n",
    "                     values_format='d',\n",
    "                     display_labels=[\"Did not leave\",\"Left\"])"
   ]
  },
  {
   "cell_type": "code",
   "execution_count": 59,
   "id": "15242da1",
   "metadata": {},
   "outputs": [
    {
     "data": {
      "text/plain": [
       "0.8956723338485317"
      ]
     },
     "execution_count": 59,
     "metadata": {},
     "output_type": "execute_result"
    }
   ],
   "source": [
    "1159/(1159+135)"
   ]
  },
  {
   "cell_type": "code",
   "execution_count": 60,
   "id": "f6cde6d2",
   "metadata": {},
   "outputs": [
    {
     "data": {
      "text/plain": [
       "0.5396145610278372"
      ]
     },
     "execution_count": 60,
     "metadata": {},
     "output_type": "execute_result"
    }
   ],
   "source": [
    "252/(215+252)"
   ]
  },
  {
   "cell_type": "markdown",
   "id": "db6b1982",
   "metadata": {},
   "source": [
    "90% of the customers who stayed were correctly classified while only 54% of Churns were correctly predicted. This is not a good performance. Observe that the model was trained mostly with default parameters. I shall now carry out hyperparameter tunning using the GridSearchCV as well as panalizing wrong prediction of Churn using the scale_pos_weight parameter to see how much the performance will improve, especially in predicting the rare case which is of interest."
   ]
  },
  {
   "cell_type": "code",
   "execution_count": 61,
   "id": "6d7f5b0e",
   "metadata": {},
   "outputs": [],
   "source": [
    "param_grid = {\n",
    "    \"max_depth\":[3,4,5],\n",
    "    \"learning_rate\":[0.1,0.01,0.05],\n",
    "    \"gamma\":[0,0.25,1.0],\n",
    "    \"reg_lambda\":[0,1.0,10.0],\n",
    "}"
   ]
  },
  {
   "cell_type": "code",
   "execution_count": 62,
   "id": "d204cf98",
   "metadata": {},
   "outputs": [],
   "source": [
    "optima_params = GridSearchCV(\n",
    "    estimator = xgb.XGBClassifier(objective=\"binary:logistic\",\n",
    "                                    use_label_encoder=False,\n",
    "                                    seed=42,\n",
    "                                    subsample=0.9,\n",
    "                                    colsample_bytree=0.5),\n",
    "    param_grid=param_grid,\n",
    "    scoring=\"roc_auc\",\n",
    "    verbose=0,\n",
    "    n_jobs=10,\n",
    "    cv=3\n",
    ")"
   ]
  },
  {
   "cell_type": "code",
   "execution_count": 63,
   "id": "4c1d2db0",
   "metadata": {},
   "outputs": [
    {
     "name": "stderr",
     "output_type": "stream",
     "text": [
      "C:\\Users\\HP 1O3O G2\\anaconda3\\lib\\site-packages\\xgboost\\sklearn.py:793: UserWarning: `eval_metric` in `fit` method is deprecated for better compatibility with scikit-learn, use `eval_metric` in constructor or`set_params` instead.\n",
      "  warnings.warn(\n",
      "C:\\Users\\HP 1O3O G2\\anaconda3\\lib\\site-packages\\xgboost\\sklearn.py:793: UserWarning: `early_stopping_rounds` in `fit` method is deprecated for better compatibility with scikit-learn, use `early_stopping_rounds` in constructor or`set_params` instead.\n",
      "  warnings.warn(\n"
     ]
    },
    {
     "name": "stdout",
     "output_type": "stream",
     "text": [
      "{'gamma': 0, 'learning_rate': 0.1, 'max_depth': 3, 'reg_lambda': 10.0}\n"
     ]
    }
   ],
   "source": [
    "optima_params.fit(X_train,\n",
    "                  y_train,\n",
    "                  early_stopping_rounds=10,\n",
    "                  eval_metric=\"auc\",\n",
    "                  eval_set=[(X_test,y_test)],\n",
    "                  verbose=False\n",
    ")\n",
    "print(optima_params.best_params_)"
   ]
  },
  {
   "cell_type": "markdown",
   "id": "87985cf5",
   "metadata": {},
   "source": [
    "I shall adjust the hyperparameters for the parameter that the extreme values were chosen to be optimal. This is because the optima parameter values may be outside the earlier chosen range."
   ]
  },
  {
   "cell_type": "code",
   "execution_count": 66,
   "id": "ee4906ed",
   "metadata": {},
   "outputs": [],
   "source": [
    "para_grid = {\n",
    "    \"max_depth\":[2,3,4],\n",
    "    \"learning_rate\":[0.01,0.05,0.1,0.5,1],\n",
    "    \"gamma\":[0],\n",
    "    \"reg_lambda\":[10.0,20,100],\n",
    "}"
   ]
  },
  {
   "cell_type": "code",
   "execution_count": 67,
   "id": "a4e16938",
   "metadata": {},
   "outputs": [
    {
     "name": "stderr",
     "output_type": "stream",
     "text": [
      "C:\\Users\\HP 1O3O G2\\anaconda3\\lib\\site-packages\\xgboost\\sklearn.py:793: UserWarning: `eval_metric` in `fit` method is deprecated for better compatibility with scikit-learn, use `eval_metric` in constructor or`set_params` instead.\n",
      "  warnings.warn(\n",
      "C:\\Users\\HP 1O3O G2\\anaconda3\\lib\\site-packages\\xgboost\\sklearn.py:793: UserWarning: `early_stopping_rounds` in `fit` method is deprecated for better compatibility with scikit-learn, use `early_stopping_rounds` in constructor or`set_params` instead.\n",
      "  warnings.warn(\n"
     ]
    },
    {
     "name": "stdout",
     "output_type": "stream",
     "text": [
      "{'gamma': 0, 'learning_rate': 0.1, 'max_depth': 3, 'reg_lambda': 10.0}\n"
     ]
    }
   ],
   "source": [
    "optima_params.fit(X_train,\n",
    "                  y_train,\n",
    "                  early_stopping_rounds=10,\n",
    "                  eval_metric=\"auc\",\n",
    "                  eval_set=[(X_test,y_test)],\n",
    "                  verbose=False\n",
    ")\n",
    "print(optima_params.best_params_)"
   ]
  },
  {
   "cell_type": "markdown",
   "id": "a9e927b8",
   "metadata": {},
   "source": [
    "No more change observed hence the optimal parameter established. However, since interest is in predicting churn, I shall fix the \"scale_pos_weight\" at 3 (that is sum(stay)/sum(Leave) to penalize the model for misclassifying the rare class (churn)"
   ]
  },
  {
   "cell_type": "code",
   "execution_count": 69,
   "id": "814f5ecf",
   "metadata": {},
   "outputs": [
    {
     "name": "stdout",
     "output_type": "stream",
     "text": [
      "[0]\tvalidation_0-aucpr:0.46253\n",
      "[1]\tvalidation_0-aucpr:0.53389\n",
      "[2]\tvalidation_0-aucpr:0.56821\n",
      "[3]\tvalidation_0-aucpr:0.57160\n",
      "[4]\tvalidation_0-aucpr:0.60707\n",
      "[5]\tvalidation_0-aucpr:0.61847\n",
      "[6]\tvalidation_0-aucpr:0.62476\n",
      "[7]\tvalidation_0-aucpr:0.62902\n",
      "[8]\tvalidation_0-aucpr:0.63201\n",
      "[9]\tvalidation_0-aucpr:0.63414\n",
      "[10]\tvalidation_0-aucpr:0.63197\n",
      "[11]\tvalidation_0-aucpr:0.63257\n",
      "[12]\tvalidation_0-aucpr:0.63385\n",
      "[13]\tvalidation_0-aucpr:0.63373\n",
      "[14]\tvalidation_0-aucpr:0.65053\n",
      "[15]\tvalidation_0-aucpr:0.64948\n",
      "[16]\tvalidation_0-aucpr:0.64940\n",
      "[17]\tvalidation_0-aucpr:0.65541\n",
      "[18]\tvalidation_0-aucpr:0.65655\n",
      "[19]\tvalidation_0-aucpr:0.65827\n",
      "[20]\tvalidation_0-aucpr:0.65835\n",
      "[21]\tvalidation_0-aucpr:0.65803\n",
      "[22]\tvalidation_0-aucpr:0.65815\n",
      "[23]\tvalidation_0-aucpr:0.66057\n",
      "[24]\tvalidation_0-aucpr:0.66059\n",
      "[25]\tvalidation_0-aucpr:0.66095\n",
      "[26]\tvalidation_0-aucpr:0.65946\n",
      "[27]\tvalidation_0-aucpr:0.65655\n",
      "[28]\tvalidation_0-aucpr:0.65734\n",
      "[29]\tvalidation_0-aucpr:0.65883\n",
      "[30]\tvalidation_0-aucpr:0.66042\n",
      "[31]\tvalidation_0-aucpr:0.66054\n",
      "[32]\tvalidation_0-aucpr:0.65963\n",
      "[33]\tvalidation_0-aucpr:0.66068\n",
      "[34]\tvalidation_0-aucpr:0.66077\n"
     ]
    },
    {
     "data": {
      "text/html": [
       "<style>#sk-container-id-3 {color: black;background-color: white;}#sk-container-id-3 pre{padding: 0;}#sk-container-id-3 div.sk-toggleable {background-color: white;}#sk-container-id-3 label.sk-toggleable__label {cursor: pointer;display: block;width: 100%;margin-bottom: 0;padding: 0.3em;box-sizing: border-box;text-align: center;}#sk-container-id-3 label.sk-toggleable__label-arrow:before {content: \"▸\";float: left;margin-right: 0.25em;color: #696969;}#sk-container-id-3 label.sk-toggleable__label-arrow:hover:before {color: black;}#sk-container-id-3 div.sk-estimator:hover label.sk-toggleable__label-arrow:before {color: black;}#sk-container-id-3 div.sk-toggleable__content {max-height: 0;max-width: 0;overflow: hidden;text-align: left;background-color: #f0f8ff;}#sk-container-id-3 div.sk-toggleable__content pre {margin: 0.2em;color: black;border-radius: 0.25em;background-color: #f0f8ff;}#sk-container-id-3 input.sk-toggleable__control:checked~div.sk-toggleable__content {max-height: 200px;max-width: 100%;overflow: auto;}#sk-container-id-3 input.sk-toggleable__control:checked~label.sk-toggleable__label-arrow:before {content: \"▾\";}#sk-container-id-3 div.sk-estimator input.sk-toggleable__control:checked~label.sk-toggleable__label {background-color: #d4ebff;}#sk-container-id-3 div.sk-label input.sk-toggleable__control:checked~label.sk-toggleable__label {background-color: #d4ebff;}#sk-container-id-3 input.sk-hidden--visually {border: 0;clip: rect(1px 1px 1px 1px);clip: rect(1px, 1px, 1px, 1px);height: 1px;margin: -1px;overflow: hidden;padding: 0;position: absolute;width: 1px;}#sk-container-id-3 div.sk-estimator {font-family: monospace;background-color: #f0f8ff;border: 1px dotted black;border-radius: 0.25em;box-sizing: border-box;margin-bottom: 0.5em;}#sk-container-id-3 div.sk-estimator:hover {background-color: #d4ebff;}#sk-container-id-3 div.sk-parallel-item::after {content: \"\";width: 100%;border-bottom: 1px solid gray;flex-grow: 1;}#sk-container-id-3 div.sk-label:hover label.sk-toggleable__label {background-color: #d4ebff;}#sk-container-id-3 div.sk-serial::before {content: \"\";position: absolute;border-left: 1px solid gray;box-sizing: border-box;top: 0;bottom: 0;left: 50%;z-index: 0;}#sk-container-id-3 div.sk-serial {display: flex;flex-direction: column;align-items: center;background-color: white;padding-right: 0.2em;padding-left: 0.2em;position: relative;}#sk-container-id-3 div.sk-item {position: relative;z-index: 1;}#sk-container-id-3 div.sk-parallel {display: flex;align-items: stretch;justify-content: center;background-color: white;position: relative;}#sk-container-id-3 div.sk-item::before, #sk-container-id-3 div.sk-parallel-item::before {content: \"\";position: absolute;border-left: 1px solid gray;box-sizing: border-box;top: 0;bottom: 0;left: 50%;z-index: -1;}#sk-container-id-3 div.sk-parallel-item {display: flex;flex-direction: column;z-index: 1;position: relative;background-color: white;}#sk-container-id-3 div.sk-parallel-item:first-child::after {align-self: flex-end;width: 50%;}#sk-container-id-3 div.sk-parallel-item:last-child::after {align-self: flex-start;width: 50%;}#sk-container-id-3 div.sk-parallel-item:only-child::after {width: 0;}#sk-container-id-3 div.sk-dashed-wrapped {border: 1px dashed gray;margin: 0 0.4em 0.5em 0.4em;box-sizing: border-box;padding-bottom: 0.4em;background-color: white;}#sk-container-id-3 div.sk-label label {font-family: monospace;font-weight: bold;display: inline-block;line-height: 1.2em;}#sk-container-id-3 div.sk-label-container {text-align: center;}#sk-container-id-3 div.sk-container {/* jupyter's `normalize.less` sets `[hidden] { display: none; }` but bootstrap.min.css set `[hidden] { display: none !important; }` so we also need the `!important` here to be able to override the default hidden behavior on the sphinx rendered scikit-learn.org. See: https://github.com/scikit-learn/scikit-learn/issues/21755 */display: inline-block !important;position: relative;}#sk-container-id-3 div.sk-text-repr-fallback {display: none;}</style><div id=\"sk-container-id-3\" class=\"sk-top-container\"><div class=\"sk-text-repr-fallback\"><pre>XGBClassifier(base_score=0.5, booster=&#x27;gbtree&#x27;, callbacks=None,\n",
       "              colsample_bylevel=1, colsample_bynode=1, colsample_bytree=0.5,\n",
       "              early_stopping_rounds=None, enable_categorical=False,\n",
       "              eval_metric=None, gamma=0, gpu_id=-1, grow_policy=&#x27;depthwise&#x27;,\n",
       "              importance_type=None, interaction_constraints=&#x27;&#x27;,\n",
       "              learning_rate=0.1, max_bin=256, max_cat_to_onehot=4,\n",
       "              max_delta_step=0, max_depth=3, max_leaves=0, min_child_weight=1,\n",
       "              missing=0, monotone_constraints=&#x27;()&#x27;, n_estimators=100, n_jobs=0,\n",
       "              num_parallel_tree=1, predictor=&#x27;auto&#x27;, random_state=42,\n",
       "              reg_alpha=0, reg_lambda=10, ...)</pre><b>In a Jupyter environment, please rerun this cell to show the HTML representation or trust the notebook. <br />On GitHub, the HTML representation is unable to render, please try loading this page with nbviewer.org.</b></div><div class=\"sk-container\" hidden><div class=\"sk-item\"><div class=\"sk-estimator sk-toggleable\"><input class=\"sk-toggleable__control sk-hidden--visually\" id=\"sk-estimator-id-3\" type=\"checkbox\" checked><label for=\"sk-estimator-id-3\" class=\"sk-toggleable__label sk-toggleable__label-arrow\">XGBClassifier</label><div class=\"sk-toggleable__content\"><pre>XGBClassifier(base_score=0.5, booster=&#x27;gbtree&#x27;, callbacks=None,\n",
       "              colsample_bylevel=1, colsample_bynode=1, colsample_bytree=0.5,\n",
       "              early_stopping_rounds=None, enable_categorical=False,\n",
       "              eval_metric=None, gamma=0, gpu_id=-1, grow_policy=&#x27;depthwise&#x27;,\n",
       "              importance_type=None, interaction_constraints=&#x27;&#x27;,\n",
       "              learning_rate=0.1, max_bin=256, max_cat_to_onehot=4,\n",
       "              max_delta_step=0, max_depth=3, max_leaves=0, min_child_weight=1,\n",
       "              missing=0, monotone_constraints=&#x27;()&#x27;, n_estimators=100, n_jobs=0,\n",
       "              num_parallel_tree=1, predictor=&#x27;auto&#x27;, random_state=42,\n",
       "              reg_alpha=0, reg_lambda=10, ...)</pre></div></div></div></div></div>"
      ],
      "text/plain": [
       "XGBClassifier(base_score=0.5, booster='gbtree', callbacks=None,\n",
       "              colsample_bylevel=1, colsample_bynode=1, colsample_bytree=0.5,\n",
       "              early_stopping_rounds=None, enable_categorical=False,\n",
       "              eval_metric=None, gamma=0, gpu_id=-1, grow_policy='depthwise',\n",
       "              importance_type=None, interaction_constraints='',\n",
       "              learning_rate=0.1, max_bin=256, max_cat_to_onehot=4,\n",
       "              max_delta_step=0, max_depth=3, max_leaves=0, min_child_weight=1,\n",
       "              missing=0, monotone_constraints='()', n_estimators=100, n_jobs=0,\n",
       "              num_parallel_tree=1, predictor='auto', random_state=42,\n",
       "              reg_alpha=0, reg_lambda=10, ...)"
      ]
     },
     "execution_count": 69,
     "metadata": {},
     "output_type": "execute_result"
    }
   ],
   "source": [
    "clf_xgb = xgb.XGBClassifier(seed=42,\n",
    "                            objective='binary:logistic',\n",
    "                            gamma=0,\n",
    "                            learning_rate=0.1,\n",
    "                            max_depth=3,\n",
    "                            reg_lambda=10,\n",
    "                            scale_pos_weight=3,\n",
    "                            subsample=0.9,\n",
    "                            colsample_bytree=0.5,\n",
    "                            use_label_encoder=False,\n",
    "                            missing=0)\n",
    "                          \n",
    "clf_xgb.fit(X_train,\n",
    "            y_train,\n",
    "            verbose=True,\n",
    "            early_stopping_rounds=10,\n",
    "            eval_metric='aucpr',\n",
    "            eval_set=[(X_test,y_test)])"
   ]
  },
  {
   "cell_type": "markdown",
   "id": "1292888f",
   "metadata": {},
   "source": [
    "# MODEL EVALUATION AND ASSESSMENT"
   ]
  },
  {
   "cell_type": "code",
   "execution_count": 70,
   "id": "3f346050",
   "metadata": {},
   "outputs": [
    {
     "name": "stderr",
     "output_type": "stream",
     "text": [
      "C:\\Users\\HP 1O3O G2\\anaconda3\\lib\\site-packages\\sklearn\\utils\\deprecation.py:87: FutureWarning: Function plot_confusion_matrix is deprecated; Function `plot_confusion_matrix` is deprecated in 1.0 and will be removed in 1.2. Use one of the class methods: ConfusionMatrixDisplay.from_predictions or ConfusionMatrixDisplay.from_estimator.\n",
      "  warnings.warn(msg, category=FutureWarning)\n"
     ]
    },
    {
     "data": {
      "text/plain": [
       "<sklearn.metrics._plot.confusion_matrix.ConfusionMatrixDisplay at 0x29e7f4740d0>"
      ]
     },
     "execution_count": 70,
     "metadata": {},
     "output_type": "execute_result"
    },
    {
     "data": {
      "image/png": "[encoded data removed]",
      "text/plain": [
       "<Figure size 432x288 with 2 Axes>"
      ]
     },
     "metadata": {
      "needs_background": "light"
     },
     "output_type": "display_data"
    }
   ],
   "source": [
    "plot_confusion_matrix(clf_xgb,\n",
    "                     X_test,\n",
    "                     y_test,\n",
    "                     values_format='d',\n",
    "                     display_labels=[\"Did not leave\",\"Left\"])"
   ]
  },
  {
   "cell_type": "code",
   "execution_count": 71,
   "id": "94ba3eae",
   "metadata": {},
   "outputs": [],
   "source": [
    "predictions = clf_xgb.predict(X_test)"
   ]
  },
  {
   "cell_type": "code",
   "execution_count": 75,
   "id": "7dc8c1b9",
   "metadata": {},
   "outputs": [
    {
     "name": "stdout",
     "output_type": "stream",
     "text": [
      "              precision    recall  f1-score   support\n",
      "\n",
      "           0       0.93      0.71      0.80      1294\n",
      "           1       0.51      0.84      0.64       467\n",
      "\n",
      "    accuracy                           0.74      1761\n",
      "   macro avg       0.72      0.78      0.72      1761\n",
      "weighted avg       0.82      0.74      0.76      1761\n",
      "\n"
     ]
    }
   ],
   "source": [
    "print(classification_report(y_test,predictions))"
   ]
  },
  {
   "cell_type": "code",
   "execution_count": 109,
   "id": "eca45db9",
   "metadata": {},
   "outputs": [
    {
     "data": {
      "text/plain": [
       "0.776169207907357"
      ]
     },
     "execution_count": 109,
     "metadata": {},
     "output_type": "execute_result"
    }
   ],
   "source": [
    "balanced_accuracy_score(y_test,predictions)"
   ]
  },
  {
   "cell_type": "code",
   "execution_count": 110,
   "id": "53c5c949",
   "metadata": {},
   "outputs": [
    {
     "data": {
      "text/plain": [
       "0.6365105008077544"
      ]
     },
     "execution_count": 110,
     "metadata": {},
     "output_type": "execute_result"
    }
   ],
   "source": [
    "f1_score(y_test,predictions)"
   ]
  },
  {
   "cell_type": "code",
   "execution_count": 112,
   "id": "c3b8da44",
   "metadata": {},
   "outputs": [
    {
     "data": {
      "text/plain": [
       "0.776169207907357"
      ]
     },
     "execution_count": 112,
     "metadata": {},
     "output_type": "execute_result"
    }
   ],
   "source": [
    "roc_auc_score(y_test,predictions)"
   ]
  },
  {
   "cell_type": "code",
   "execution_count": 113,
   "id": "8de00db4",
   "metadata": {},
   "outputs": [
    {
     "data": {
      "text/plain": [
       "0.5110246433203631"
      ]
     },
     "execution_count": 113,
     "metadata": {},
     "output_type": "execute_result"
    }
   ],
   "source": [
    "precision_score(y_test,predictions)"
   ]
  },
  {
   "cell_type": "code",
   "execution_count": 114,
   "id": "38210e96",
   "metadata": {},
   "outputs": [
    {
     "data": {
      "text/plain": [
       "0.8436830835117773"
      ]
     },
     "execution_count": 114,
     "metadata": {},
     "output_type": "execute_result"
    }
   ],
   "source": [
    "recall_score(y_test,predictions)"
   ]
  },
  {
   "cell_type": "code",
   "execution_count": 82,
   "id": "5635ed8e",
   "metadata": {},
   "outputs": [
    {
     "data": {
      "image/png": "[encoded data removed]",
      "text/plain": [
       "<Figure size 432x288 with 1 Axes>"
      ]
     },
     "metadata": {
      "needs_background": "light"
     },
     "output_type": "display_data"
    }
   ],
   "source": [
    "from sklearn.metrics import roc_auc_score\n",
    "from sklearn.metrics import roc_curve\n",
    "roc_auc = roc_auc_score(y_test, clf_xgb.predict(X_test))\n",
    "fpr, tpr, thresholds = roc_curve(y_test, clf_xgb.predict_proba(X_test)[:,1])\n",
    "plt.figure()\n",
    "plt.plot(fpr, tpr, label='xgboost classification (area = %0.2f)' % roc_auc)\n",
    "plt.plot([0, 1], [0, 1],'r--')\n",
    "plt.xlim([0.0, 1.0])\n",
    "plt.ylim([0.0, 1.05])\n",
    "plt.xlabel('False Positive Rate')\n",
    "plt.ylabel('True Positive Rate')\n",
    "plt.title('Receiver operating characteristic')\n",
    "plt.legend(loc=\"lower right\")\n",
    "plt.savefig('xgb_ROC')\n",
    "plt.show()"
   ]
  },
  {
   "cell_type": "code",
   "execution_count": 83,
   "id": "a4562782",
   "metadata": {},
   "outputs": [
    {
     "data": {
      "text/plain": [
       "0.7086553323029366"
      ]
     },
     "execution_count": 83,
     "metadata": {},
     "output_type": "execute_result"
    }
   ],
   "source": [
    "917/(917+377)"
   ]
  },
  {
   "cell_type": "code",
   "execution_count": 84,
   "id": "af9621d6",
   "metadata": {},
   "outputs": [
    {
     "data": {
      "text/plain": [
       "0.8436830835117773"
      ]
     },
     "execution_count": 84,
     "metadata": {},
     "output_type": "execute_result"
    }
   ],
   "source": [
    "394/(394+73)"
   ]
  },
  {
   "cell_type": "markdown",
   "id": "18190224",
   "metadata": {},
   "source": [
    "Now, 84% of customer churn are correctly predicted. This is at the expense of reduction in percentateg of correct prediction of the customers who did not leave from 90% to 71%. This is a far better result because interest is on retaining customers that are expected to churn. The implication is that extra resouces may be expended in trying to retain customers who are wrongly predicted be among those the will leave but this is a far better option as the extra resources may even encurage those customers to increase their patronage. "
   ]
  },
  {
   "cell_type": "markdown",
   "id": "41270013",
   "metadata": {},
   "source": [
    "# DECISION TREE CONSTRUCTION"
   ]
  },
  {
   "cell_type": "code",
   "execution_count": 85,
   "id": "5e43562f",
   "metadata": {},
   "outputs": [
    {
     "name": "stdout",
     "output_type": "stream",
     "text": [
      "weight:  {'Zip_Code': 17.0, 'Latitude': 5.0, 'Longitude': 13.0, 'Tenure_Months': 31.0, 'Monthly_Charges': 22.0, 'Total_Charges': 20.0, 'Senior_Citizen_Yes': 1.0, 'Partner_Yes': 5.0, 'Dependents_Yes': 23.0, 'Phone_Service_Yes': 1.0, 'Multiple_Lines_No_phone_service': 1.0, 'Multiple_Lines_Yes': 1.0, 'Internet_Service_Fiber_optic': 20.0, 'Internet_Service_No': 9.0, 'Online_Security_No_internet_service': 2.0, 'Online_Security_Yes': 7.0, 'Online_Backup_No_internet_service': 3.0, 'Online_Backup_Yes': 1.0, 'Device_Protection_No_internet_service': 1.0, 'Tech_Support_Yes': 6.0, 'Streaming_TV_Yes': 4.0, 'Streaming_Movies_Yes': 5.0, 'Contract_One_year': 10.0, 'Contract_Two_year': 16.0, 'Paperless_Billing_Yes': 10.0, 'Payment_Method_Electronic_check': 11.0}\n",
      "gain:  {'Zip_Code': 19.263622283935547, 'Latitude': 4.795428276062012, 'Longitude': 5.658805847167969, 'Tenure_Months': 91.39815521240234, 'Monthly_Charges': 33.18498611450195, 'Total_Charges': 51.91971969604492, 'Senior_Citizen_Yes': 3.8018798828125, 'Partner_Yes': 10.439550399780273, 'Dependents_Yes': 112.7205581665039, 'Phone_Service_Yes': 6.189910888671875, 'Multiple_Lines_No_phone_service': 18.523941040039062, 'Multiple_Lines_Yes': 14.961248397827148, 'Internet_Service_Fiber_optic': 109.02103424072266, 'Internet_Service_No': 82.1387710571289, 'Online_Security_No_internet_service': 101.85089111328125, 'Online_Security_Yes': 41.403045654296875, 'Online_Backup_No_internet_service': 27.035940170288086, 'Online_Backup_Yes': 11.630657196044922, 'Device_Protection_No_internet_service': 74.7418212890625, 'Tech_Support_Yes': 32.99827575683594, 'Streaming_TV_Yes': 16.586931228637695, 'Streaming_Movies_Yes': 35.608890533447266, 'Contract_One_year': 140.98318481445312, 'Contract_Two_year': 242.16156005859375, 'Paperless_Billing_Yes': 36.796546936035156, 'Payment_Method_Electronic_check': 122.56200408935547}\n",
      "cover:  {'Zip_Code': 152.72781372070312, 'Latitude': 162.64820861816406, 'Longitude': 208.24432373046875, 'Tenure_Months': 741.9481201171875, 'Monthly_Charges': 362.0823669433594, 'Total_Charges': 518.2661743164062, 'Senior_Citizen_Yes': 122.5579605102539, 'Partner_Yes': 147.78500366210938, 'Dependents_Yes': 1004.0280151367188, 'Phone_Service_Yes': 311.09222412109375, 'Multiple_Lines_No_phone_service': 385.8049621582031, 'Multiple_Lines_Yes': 466.9443054199219, 'Internet_Service_Fiber_optic': 829.6262817382812, 'Internet_Service_No': 788.453857421875, 'Online_Security_No_internet_service': 568.2579956054688, 'Online_Security_Yes': 828.8037109375, 'Online_Backup_No_internet_service': 530.328125, 'Online_Backup_Yes': 52.57387924194336, 'Device_Protection_No_internet_service': 987.6624755859375, 'Tech_Support_Yes': 491.3086242675781, 'Streaming_TV_Yes': 624.1253662109375, 'Streaming_Movies_Yes': 525.8477783203125, 'Contract_One_year': 866.5485229492188, 'Contract_Two_year': 1297.4404296875, 'Paperless_Billing_Yes': 834.9964599609375, 'Payment_Method_Electronic_check': 919.177001953125}\n",
      "total_gain:  {'Zip_Code': 327.4815673828125, 'Latitude': 23.977142333984375, 'Longitude': 73.5644760131836, 'Tenure_Months': 2833.3427734375, 'Monthly_Charges': 730.0697021484375, 'Total_Charges': 1038.3944091796875, 'Senior_Citizen_Yes': 3.8018798828125, 'Partner_Yes': 52.197750091552734, 'Dependents_Yes': 2592.57275390625, 'Phone_Service_Yes': 6.189910888671875, 'Multiple_Lines_No_phone_service': 18.523941040039062, 'Multiple_Lines_Yes': 14.961248397827148, 'Internet_Service_Fiber_optic': 2180.420654296875, 'Internet_Service_No': 739.2489624023438, 'Online_Security_No_internet_service': 203.7017822265625, 'Online_Security_Yes': 289.8213195800781, 'Online_Backup_No_internet_service': 81.10781860351562, 'Online_Backup_Yes': 11.630657196044922, 'Device_Protection_No_internet_service': 74.7418212890625, 'Tech_Support_Yes': 197.98965454101562, 'Streaming_TV_Yes': 66.34772491455078, 'Streaming_Movies_Yes': 178.04444885253906, 'Contract_One_year': 1409.8319091796875, 'Contract_Two_year': 3874.5849609375, 'Paperless_Billing_Yes': 367.9654846191406, 'Payment_Method_Electronic_check': 1348.1820068359375}\n",
      "total_cover:  {'Zip_Code': 2596.372802734375, 'Latitude': 813.2410278320312, 'Longitude': 2707.17626953125, 'Tenure_Months': 23000.392578125, 'Monthly_Charges': 7965.81201171875, 'Total_Charges': 10365.3232421875, 'Senior_Citizen_Yes': 122.5579605102539, 'Partner_Yes': 738.925048828125, 'Dependents_Yes': 23092.64453125, 'Phone_Service_Yes': 311.09222412109375, 'Multiple_Lines_No_phone_service': 385.8049621582031, 'Multiple_Lines_Yes': 466.9443054199219, 'Internet_Service_Fiber_optic': 16592.525390625, 'Internet_Service_No': 7096.0849609375, 'Online_Security_No_internet_service': 1136.5159912109375, 'Online_Security_Yes': 5801.6259765625, 'Online_Backup_No_internet_service': 1590.984375, 'Online_Backup_Yes': 52.57387924194336, 'Device_Protection_No_internet_service': 987.6624755859375, 'Tech_Support_Yes': 2947.851806640625, 'Streaming_TV_Yes': 2496.50146484375, 'Streaming_Movies_Yes': 2629.23876953125, 'Contract_One_year': 8665.4853515625, 'Contract_Two_year': 20759.046875, 'Paperless_Billing_Yes': 8349.96484375, 'Payment_Method_Electronic_check': 10110.947265625}\n"
     ]
    }
   ],
   "source": [
    "bst=clf_xgb.get_booster()\n",
    "for importance_type in ('weight','gain','cover','total_gain','total_cover'):\n",
    "    print('%s: ' %importance_type, bst.get_score(importance_type=importance_type))\n",
    "    \n",
    "node_params={'shape':'box',\n",
    "            'style':'filled',\n",
    "            'fillcolor':'#78cbe'}\n",
    "leaf_params={'shape':'box',\n",
    "            'style':'filled',\n",
    "            'fillcolor':'#e48038'}"
   ]
  },
  {
   "cell_type": "code",
   "execution_count": 86,
   "id": "fcae6265",
   "metadata": {},
   "outputs": [
    {
     "data": {
      "image/svg+xml": [
       "<?xml version=\"1.0\" encoding=\"UTF-8\" standalone=\"no\"?>\n",
       "<!DOCTYPE svg PUBLIC \"-//W3C//DTD SVG 1.1//EN\"\n",
       " \"http://www.w3.org/Graphics/SVG/1.1/DTD/svg11.dtd\">\n",
       "<!-- Generated by graphviz version 2.50.0 (0)\n",
       " -->\n",
       "<!-- Pages: 1 -->\n",
       "<svg width=\"1119pt\" height=\"305pt\"\n",
       " viewBox=\"0.00 0.00 1118.50 305.00\" xmlns=\"http://www.w3.org/2000/svg\" xmlns:xlink=\"http://www.w3.org/1999/xlink\">\n",
       "<g id=\"graph0\" class=\"graph\" transform=\"scale(1 1) rotate(0) translate(4 301)\">\n",
       "<polygon fill=\"white\" stroke=\"transparent\" points=\"-4,4 -4,-301 1114.5,-301 1114.5,4 -4,4\"/>\n",
       "<!-- 0 -->\n",
       "<g id=\"node1\" class=\"node\">\n",
       "<title>0</title>\n",
       "<polygon fill=\"#78cb0e\" stroke=\"black\" points=\"697,-297 381,-297 381,-261 697,-261 697,-297\"/>\n",
       "<text text-anchor=\"middle\" x=\"539\" y=\"-275.3\" font-family=\"Times New Roman,serif\" font-size=\"14.00\">Payment_Method_Electronic_check&lt;&#45;9.53674316e&#45;07</text>\n",
       "</g>\n",
       "<!-- 1 -->\n",
       "<g id=\"node2\" class=\"node\">\n",
       "<title>1</title>\n",
       "<polygon fill=\"#78cb0e\" stroke=\"black\" points=\"530.5,-210 321.5,-210 321.5,-174 530.5,-174 530.5,-210\"/>\n",
       "<text text-anchor=\"middle\" x=\"426\" y=\"-188.3\" font-family=\"Times New Roman,serif\" font-size=\"14.00\">Dependents_Yes&lt;&#45;9.53674316e&#45;07</text>\n",
       "</g>\n",
       "<!-- 0&#45;&gt;1 -->\n",
       "<g id=\"edge1\" class=\"edge\">\n",
       "<title>0&#45;&gt;1</title>\n",
       "<path fill=\"none\" stroke=\"#0000ff\" d=\"M516.13,-260.8C499.13,-248.01 475.74,-230.42 457.05,-216.36\"/>\n",
       "<polygon fill=\"#0000ff\" stroke=\"#0000ff\" points=\"458.93,-213.39 448.83,-210.18 454.72,-218.98 458.93,-213.39\"/>\n",
       "<text text-anchor=\"middle\" x=\"524.5\" y=\"-231.8\" font-family=\"Times New Roman,serif\" font-size=\"14.00\">yes, missing</text>\n",
       "</g>\n",
       "<!-- 2 -->\n",
       "<g id=\"node3\" class=\"node\">\n",
       "<title>2</title>\n",
       "<polygon fill=\"#78cb0e\" stroke=\"black\" points=\"801.5,-210 592.5,-210 592.5,-174 801.5,-174 801.5,-210\"/>\n",
       "<text text-anchor=\"middle\" x=\"697\" y=\"-188.3\" font-family=\"Times New Roman,serif\" font-size=\"14.00\">Dependents_Yes&lt;&#45;9.53674316e&#45;07</text>\n",
       "</g>\n",
       "<!-- 0&#45;&gt;2 -->\n",
       "<g id=\"edge2\" class=\"edge\">\n",
       "<title>0&#45;&gt;2</title>\n",
       "<path fill=\"none\" stroke=\"#ff0000\" d=\"M570.97,-260.8C595.58,-247.56 629.74,-229.18 656.3,-214.9\"/>\n",
       "<polygon fill=\"#ff0000\" stroke=\"#ff0000\" points=\"658.2,-217.85 665.34,-210.03 654.88,-211.69 658.2,-217.85\"/>\n",
       "<text text-anchor=\"middle\" x=\"635\" y=\"-231.8\" font-family=\"Times New Roman,serif\" font-size=\"14.00\">no</text>\n",
       "</g>\n",
       "<!-- 3 -->\n",
       "<g id=\"node4\" class=\"node\">\n",
       "<title>3</title>\n",
       "<polygon fill=\"#78cb0e\" stroke=\"black\" points=\"324,-123 94,-123 94,-87 324,-87 324,-123\"/>\n",
       "<text text-anchor=\"middle\" x=\"209\" y=\"-101.3\" font-family=\"Times New Roman,serif\" font-size=\"14.00\">Internet_Service_No&lt;&#45;9.53674316e&#45;07</text>\n",
       "</g>\n",
       "<!-- 1&#45;&gt;3 -->\n",
       "<g id=\"edge3\" class=\"edge\">\n",
       "<title>1&#45;&gt;3</title>\n",
       "<path fill=\"none\" stroke=\"#0000ff\" d=\"M382.35,-173.9C347.7,-160.33 299.11,-141.29 262.18,-126.83\"/>\n",
       "<polygon fill=\"#0000ff\" stroke=\"#0000ff\" points=\"263.17,-123.46 252.58,-123.07 260.62,-129.98 263.17,-123.46\"/>\n",
       "<text text-anchor=\"middle\" x=\"365.5\" y=\"-144.8\" font-family=\"Times New Roman,serif\" font-size=\"14.00\">yes, missing</text>\n",
       "</g>\n",
       "<!-- 4 -->\n",
       "<g id=\"node5\" class=\"node\">\n",
       "<title>4</title>\n",
       "<polygon fill=\"#78cb0e\" stroke=\"black\" points=\"487.5,-123 364.5,-123 364.5,-87 487.5,-87 487.5,-123\"/>\n",
       "<text text-anchor=\"middle\" x=\"426\" y=\"-101.3\" font-family=\"Times New Roman,serif\" font-size=\"14.00\">Zip_Code&lt;90016.5</text>\n",
       "</g>\n",
       "<!-- 1&#45;&gt;4 -->\n",
       "<g id=\"edge4\" class=\"edge\">\n",
       "<title>1&#45;&gt;4</title>\n",
       "<path fill=\"none\" stroke=\"#ff0000\" d=\"M426,-173.8C426,-162.16 426,-146.55 426,-133.24\"/>\n",
       "<polygon fill=\"#ff0000\" stroke=\"#ff0000\" points=\"429.5,-133.18 426,-123.18 422.5,-133.18 429.5,-133.18\"/>\n",
       "<text text-anchor=\"middle\" x=\"433\" y=\"-144.8\" font-family=\"Times New Roman,serif\" font-size=\"14.00\">no</text>\n",
       "</g>\n",
       "<!-- 5 -->\n",
       "<g id=\"node10\" class=\"node\">\n",
       "<title>5</title>\n",
       "<polygon fill=\"#78cb0e\" stroke=\"black\" points=\"812,-123 582,-123 582,-87 812,-87 812,-123\"/>\n",
       "<text text-anchor=\"middle\" x=\"697\" y=\"-101.3\" font-family=\"Times New Roman,serif\" font-size=\"14.00\">Internet_Service_No&lt;&#45;9.53674316e&#45;07</text>\n",
       "</g>\n",
       "<!-- 2&#45;&gt;5 -->\n",
       "<g id=\"edge9\" class=\"edge\">\n",
       "<title>2&#45;&gt;5</title>\n",
       "<path fill=\"none\" stroke=\"#0000ff\" d=\"M697,-173.8C697,-162.16 697,-146.55 697,-133.24\"/>\n",
       "<polygon fill=\"#0000ff\" stroke=\"#0000ff\" points=\"700.5,-133.18 697,-123.18 693.5,-133.18 700.5,-133.18\"/>\n",
       "<text text-anchor=\"middle\" x=\"731.5\" y=\"-144.8\" font-family=\"Times New Roman,serif\" font-size=\"14.00\">yes, missing</text>\n",
       "</g>\n",
       "<!-- 6 -->\n",
       "<g id=\"node11\" class=\"node\">\n",
       "<title>6</title>\n",
       "<polygon fill=\"#78cb0e\" stroke=\"black\" points=\"966.5,-123 853.5,-123 853.5,-87 966.5,-87 966.5,-123\"/>\n",
       "<text text-anchor=\"middle\" x=\"910\" y=\"-101.3\" font-family=\"Times New Roman,serif\" font-size=\"14.00\">Zip_Code&lt;91657</text>\n",
       "</g>\n",
       "<!-- 2&#45;&gt;6 -->\n",
       "<g id=\"edge10\" class=\"edge\">\n",
       "<title>2&#45;&gt;6</title>\n",
       "<path fill=\"none\" stroke=\"#ff0000\" d=\"M739.85,-173.9C773.86,-160.33 821.56,-141.29 857.8,-126.83\"/>\n",
       "<polygon fill=\"#ff0000\" stroke=\"#ff0000\" points=\"859.23,-130.03 867.22,-123.07 856.64,-123.53 859.23,-130.03\"/>\n",
       "<text text-anchor=\"middle\" x=\"824\" y=\"-144.8\" font-family=\"Times New Roman,serif\" font-size=\"14.00\">no</text>\n",
       "</g>\n",
       "<!-- 7 -->\n",
       "<g id=\"node6\" class=\"node\">\n",
       "<title>7</title>\n",
       "<polygon fill=\"#e48038\" stroke=\"black\" points=\"130,-36 0,-36 0,0 130,0 130,-36\"/>\n",
       "<text text-anchor=\"middle\" x=\"65\" y=\"-14.3\" font-family=\"Times New Roman,serif\" font-size=\"14.00\">leaf=0.00545868091</text>\n",
       "</g>\n",
       "<!-- 3&#45;&gt;7 -->\n",
       "<g id=\"edge5\" class=\"edge\">\n",
       "<title>3&#45;&gt;7</title>\n",
       "<path fill=\"none\" stroke=\"#0000ff\" d=\"M170.11,-86.83C158.9,-81.49 146.79,-75.33 136,-69 122.26,-60.95 107.77,-51.03 95.49,-42.15\"/>\n",
       "<polygon fill=\"#0000ff\" stroke=\"#0000ff\" points=\"97.52,-39.29 87.38,-36.21 93.38,-44.94 97.52,-39.29\"/>\n",
       "<text text-anchor=\"middle\" x=\"170.5\" y=\"-57.8\" font-family=\"Times New Roman,serif\" font-size=\"14.00\">yes, missing</text>\n",
       "</g>\n",
       "<!-- 8 -->\n",
       "<g id=\"node7\" class=\"node\">\n",
       "<title>8</title>\n",
       "<polygon fill=\"#e48038\" stroke=\"black\" points=\"269.5,-36 148.5,-36 148.5,0 269.5,0 269.5,-36\"/>\n",
       "<text text-anchor=\"middle\" x=\"209\" y=\"-14.3\" font-family=\"Times New Roman,serif\" font-size=\"14.00\">leaf=&#45;0.105075441</text>\n",
       "</g>\n",
       "<!-- 3&#45;&gt;8 -->\n",
       "<g id=\"edge6\" class=\"edge\">\n",
       "<title>3&#45;&gt;8</title>\n",
       "<path fill=\"none\" stroke=\"#ff0000\" d=\"M209,-86.8C209,-75.16 209,-59.55 209,-46.24\"/>\n",
       "<polygon fill=\"#ff0000\" stroke=\"#ff0000\" points=\"212.5,-46.18 209,-36.18 205.5,-46.18 212.5,-46.18\"/>\n",
       "<text text-anchor=\"middle\" x=\"216\" y=\"-57.8\" font-family=\"Times New Roman,serif\" font-size=\"14.00\">no</text>\n",
       "</g>\n",
       "<!-- 9 -->\n",
       "<g id=\"node8\" class=\"node\">\n",
       "<title>9</title>\n",
       "<polygon fill=\"#e48038\" stroke=\"black\" points=\"410.5,-36 287.5,-36 287.5,0 410.5,0 410.5,-36\"/>\n",
       "<text text-anchor=\"middle\" x=\"349\" y=\"-14.3\" font-family=\"Times New Roman,serif\" font-size=\"14.00\">leaf=0.0122448979</text>\n",
       "</g>\n",
       "<!-- 4&#45;&gt;9 -->\n",
       "<g id=\"edge7\" class=\"edge\">\n",
       "<title>4&#45;&gt;9</title>\n",
       "<path fill=\"none\" stroke=\"#0000ff\" d=\"M400.88,-86.88C394.02,-81.58 386.87,-75.43 381,-69 374.44,-61.81 368.36,-53.12 363.31,-45.01\"/>\n",
       "<polygon fill=\"#0000ff\" stroke=\"#0000ff\" points=\"366.19,-43.01 358.06,-36.22 360.18,-46.6 366.19,-43.01\"/>\n",
       "<text text-anchor=\"middle\" x=\"415.5\" y=\"-57.8\" font-family=\"Times New Roman,serif\" font-size=\"14.00\">yes, missing</text>\n",
       "</g>\n",
       "<!-- 10 -->\n",
       "<g id=\"node9\" class=\"node\">\n",
       "<title>10</title>\n",
       "<polygon fill=\"#e48038\" stroke=\"black\" points=\"549.5,-36 428.5,-36 428.5,0 549.5,0 549.5,-36\"/>\n",
       "<text text-anchor=\"middle\" x=\"489\" y=\"-14.3\" font-family=\"Times New Roman,serif\" font-size=\"14.00\">leaf=&#45;0.151666671</text>\n",
       "</g>\n",
       "<!-- 4&#45;&gt;10 -->\n",
       "<g id=\"edge8\" class=\"edge\">\n",
       "<title>4&#45;&gt;10</title>\n",
       "<path fill=\"none\" stroke=\"#ff0000\" d=\"M438.75,-86.8C447.8,-74.59 460.1,-57.99 470.26,-44.28\"/>\n",
       "<polygon fill=\"#ff0000\" stroke=\"#ff0000\" points=\"473.13,-46.29 476.27,-36.18 467.5,-42.13 473.13,-46.29\"/>\n",
       "<text text-anchor=\"middle\" x=\"469\" y=\"-57.8\" font-family=\"Times New Roman,serif\" font-size=\"14.00\">no</text>\n",
       "</g>\n",
       "<!-- 11 -->\n",
       "<g id=\"node12\" class=\"node\">\n",
       "<title>11</title>\n",
       "<polygon fill=\"#e48038\" stroke=\"black\" points=\"684,-36 568,-36 568,0 684,0 684,-36\"/>\n",
       "<text text-anchor=\"middle\" x=\"626\" y=\"-14.3\" font-family=\"Times New Roman,serif\" font-size=\"14.00\">leaf=0.103684783</text>\n",
       "</g>\n",
       "<!-- 5&#45;&gt;11 -->\n",
       "<g id=\"edge11\" class=\"edge\">\n",
       "<title>5&#45;&gt;11</title>\n",
       "<path fill=\"none\" stroke=\"#0000ff\" d=\"M673.44,-86.81C667.03,-81.51 660.39,-75.38 655,-69 648.95,-61.83 643.46,-53.24 638.92,-45.21\"/>\n",
       "<polygon fill=\"#0000ff\" stroke=\"#0000ff\" points=\"641.87,-43.31 634.05,-36.17 635.71,-46.63 641.87,-43.31\"/>\n",
       "<text text-anchor=\"middle\" x=\"689.5\" y=\"-57.8\" font-family=\"Times New Roman,serif\" font-size=\"14.00\">yes, missing</text>\n",
       "</g>\n",
       "<!-- 12 -->\n",
       "<g id=\"node13\" class=\"node\">\n",
       "<title>12</title>\n",
       "<polygon fill=\"#e48038\" stroke=\"black\" points=\"830,-36 702,-36 702,0 830,0 830,-36\"/>\n",
       "<text text-anchor=\"middle\" x=\"766\" y=\"-14.3\" font-family=\"Times New Roman,serif\" font-size=\"14.00\">leaf=&#45;0.0839999989</text>\n",
       "</g>\n",
       "<!-- 5&#45;&gt;12 -->\n",
       "<g id=\"edge12\" class=\"edge\">\n",
       "<title>5&#45;&gt;12</title>\n",
       "<path fill=\"none\" stroke=\"#ff0000\" d=\"M710.96,-86.8C720.88,-74.59 734.35,-57.99 745.48,-44.28\"/>\n",
       "<polygon fill=\"#ff0000\" stroke=\"#ff0000\" points=\"748.47,-46.15 752.06,-36.18 743.04,-41.73 748.47,-46.15\"/>\n",
       "<text text-anchor=\"middle\" x=\"743\" y=\"-57.8\" font-family=\"Times New Roman,serif\" font-size=\"14.00\">no</text>\n",
       "</g>\n",
       "<!-- 13 -->\n",
       "<g id=\"node14\" class=\"node\">\n",
       "<title>13</title>\n",
       "<polygon fill=\"#e48038\" stroke=\"black\" points=\"971.5,-36 848.5,-36 848.5,0 971.5,0 971.5,-36\"/>\n",
       "<text text-anchor=\"middle\" x=\"910\" y=\"-14.3\" font-family=\"Times New Roman,serif\" font-size=\"14.00\">leaf=0.0519685037</text>\n",
       "</g>\n",
       "<!-- 6&#45;&gt;13 -->\n",
       "<g id=\"edge13\" class=\"edge\">\n",
       "<title>6&#45;&gt;13</title>\n",
       "<path fill=\"none\" stroke=\"#0000ff\" d=\"M910,-86.8C910,-75.16 910,-59.55 910,-46.24\"/>\n",
       "<polygon fill=\"#0000ff\" stroke=\"#0000ff\" points=\"913.5,-46.18 910,-36.18 906.5,-46.18 913.5,-46.18\"/>\n",
       "<text text-anchor=\"middle\" x=\"944.5\" y=\"-57.8\" font-family=\"Times New Roman,serif\" font-size=\"14.00\">yes, missing</text>\n",
       "</g>\n",
       "<!-- 14 -->\n",
       "<g id=\"node15\" class=\"node\">\n",
       "<title>14</title>\n",
       "<polygon fill=\"#e48038\" stroke=\"black\" points=\"1110.5,-36 989.5,-36 989.5,0 1110.5,0 1110.5,-36\"/>\n",
       "<text text-anchor=\"middle\" x=\"1050\" y=\"-14.3\" font-family=\"Times New Roman,serif\" font-size=\"14.00\">leaf=&#45;0.103501938</text>\n",
       "</g>\n",
       "<!-- 6&#45;&gt;14 -->\n",
       "<g id=\"edge14\" class=\"edge\">\n",
       "<title>6&#45;&gt;14</title>\n",
       "<path fill=\"none\" stroke=\"#ff0000\" d=\"M949.38,-86.84C960.48,-81.54 972.42,-75.4 983,-69 996.09,-61.08 1009.76,-51.2 1021.31,-42.33\"/>\n",
       "<polygon fill=\"#ff0000\" stroke=\"#ff0000\" points=\"1023.58,-44.99 1029.31,-36.08 1019.28,-39.48 1023.58,-44.99\"/>\n",
       "<text text-anchor=\"middle\" x=\"1011\" y=\"-57.8\" font-family=\"Times New Roman,serif\" font-size=\"14.00\">no</text>\n",
       "</g>\n",
       "</g>\n",
       "</svg>\n"
      ],
      "text/plain": [
       "<graphviz.sources.Source at 0x29e7ff86a90>"
      ]
     },
     "execution_count": 86,
     "metadata": {},
     "output_type": "execute_result"
    }
   ],
   "source": [
    "xgb.to_graphviz(clf_xgb,num_trees=0,size=\"10,10\",\n",
    "               condition_node_params=node_params,\n",
    "               leaf_node_params=leaf_params)"
   ]
  }
 ],
 "metadata": {
  "kernelspec": {
   "display_name": "Python (.venv)",
   "language": "python",
   "name": ".venv"
  },
  "language_info": {
   "codemirror_mode": {
    "name": "ipython",
    "version": 3
   },
   "file_extension": ".py",
   "mimetype": "text/x-python",
   "name": "python",
   "nbconvert_exporter": "python",
   "pygments_lexer": "ipython3",
   "version": "3.9.12"
  }
 },
 "nbformat": 4,
 "nbformat_minor": 5
}
